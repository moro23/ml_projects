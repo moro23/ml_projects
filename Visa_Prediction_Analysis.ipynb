{
 "cells": [
  {
   "cell_type": "markdown",
   "metadata": {
    "id": "AT5OogJVFbwu"
   },
   "source": [
    "# EasyVisa Project\n",
    "\n",
    "## Context:\n",
    "\n",
    "Business communities in the United States are facing high demand for human resources, but one of the constant challenges is identifying and attracting the right talent, which is perhaps the most important element in remaining competitive. Companies in the United States look for hard-working, talented, and qualified individuals both locally as well as abroad.\n",
    "\n",
    "The Immigration and Nationality Act (INA) of the US permits foreign workers to come to the United States to work on either a temporary or permanent basis. The act also protects US workers against adverse impacts on their wages or working conditions by ensuring US employers' compliance with statutory requirements when they hire foreign workers to fill workforce shortages. The immigration programs are administered by the Office of Foreign Labor Certification (OFLC).\n",
    "\n",
    "OFLC processes job certification applications for employers seeking to bring foreign workers into the United States and grants certifications in those cases where employers can demonstrate that there are not sufficient US workers available to perform the work at wages that meet or exceed the wage paid for the occupation in the area of intended employment.\n",
    "\n",
    "## Objective:\n",
    "\n",
    "In FY 2016, the OFLC processed 775,979 employer applications for 1,699,957 positions for temporary and permanent labor certifications. This was a nine percent increase in the overall number of processed applications from the previous year. The process of reviewing every case is becoming a tedious task as the number of applicants is increasing every year.\n",
    "\n",
    "The increasing number of applicants every year calls for a Machine Learning based solution that can help in shortlisting the candidates having higher chances of VISA approval. OFLC has hired your firm EasyVisa for data-driven solutions. You as a data scientist have to analyze the data provided and, with the help of a classification model:\n",
    "\n",
    "* Facilitate the process of visa approvals.\n",
    "* Recommend a suitable profile for the applicants for whom the visa should be certified or denied based on the drivers that significantly influence the case status. \n",
    "\n",
    "\n",
    "## Data Description\n",
    "\n",
    "The data contains the different attributes of the employee and the employer. The detailed data dictionary is given below.\n",
    "\n",
    "* case_id: ID of each visa application\n",
    "* continent: Information of continent the employee\n",
    "* education_of_employee: Information of education of the employee\n",
    "* has_job_experience: Does the employee has any job experience? Y= Yes; N = No\n",
    "* requires_job_training: Does the employee require any job training? Y = Yes; N = No \n",
    "* no_of_employees: Number of employees in the employer's company\n",
    "* yr_of_estab: Year in which the employer's company was established\n",
    "* region_of_employment: Information of foreign worker's intended region of employment in the US.\n",
    "* prevailing_wage:  Average wage paid to similarly employed workers in a specific occupation in the area of intended employment. The purpose of the prevailing wage is to ensure that the foreign worker is not underpaid compared to other workers offering the same or similar service in the same area of employment. \n",
    "* unit_of_wage: Unit of prevailing wage. Values include Hourly, Weekly, Monthly, and Yearly.\n",
    "* full_time_position: Is the position of work full-time? Y = Full Time Position; N = Part Time Position\n",
    "* case_status:  Flag indicating if the Visa was certified or denied"
   ]
  },
  {
   "cell_type": "markdown",
   "metadata": {
    "id": "dirty-island"
   },
   "source": [
    "## Importing necessary libraries and data"
   ]
  },
  {
   "cell_type": "code",
   "execution_count": 1,
   "metadata": {
    "execution": {
     "iopub.execute_input": "2022-04-14T16:25:58.475738Z",
     "iopub.status.busy": "2022-04-14T16:25:58.475298Z",
     "iopub.status.idle": "2022-04-14T16:25:58.974697Z",
     "shell.execute_reply": "2022-04-14T16:25:58.973578Z",
     "shell.execute_reply.started": "2022-04-14T16:25:58.475637Z"
    },
    "id": "statewide-still"
   },
   "outputs": [],
   "source": [
    "## lets import our core libraries\n",
    "import pandas as pd\n",
    "import numpy as np\n",
    "import matplotlib.pyplot as plt \n",
    "import seaborn as sns \n",
    "\n",
    "sns.set()"
   ]
  },
  {
   "cell_type": "code",
   "execution_count": 2,
   "metadata": {
    "execution": {
     "iopub.execute_input": "2022-04-14T16:25:58.977574Z",
     "iopub.status.busy": "2022-04-14T16:25:58.977231Z",
     "iopub.status.idle": "2022-04-14T16:25:58.983000Z",
     "shell.execute_reply": "2022-04-14T16:25:58.981812Z",
     "shell.execute_reply.started": "2022-04-14T16:25:58.977530Z"
    }
   },
   "outputs": [],
   "source": [
    "import warnings\n",
    "warnings.filterwarnings('ignore')"
   ]
  },
  {
   "cell_type": "markdown",
   "metadata": {
    "id": "desperate-infection"
   },
   "source": [
    "## Data Overview\n",
    "\n",
    "- Observations\n",
    "- Sanity checks"
   ]
  },
  {
   "cell_type": "code",
   "execution_count": 3,
   "metadata": {
    "execution": {
     "iopub.execute_input": "2022-04-14T16:25:58.985339Z",
     "iopub.status.busy": "2022-04-14T16:25:58.984964Z",
     "iopub.status.idle": "2022-04-14T16:25:59.070202Z",
     "shell.execute_reply": "2022-04-14T16:25:59.069308Z",
     "shell.execute_reply.started": "2022-04-14T16:25:58.985295Z"
    },
    "id": "persistent-juice"
   },
   "outputs": [
    {
     "data": {
      "text/html": [
       "<div>\n",
       "<style scoped>\n",
       "    .dataframe tbody tr th:only-of-type {\n",
       "        vertical-align: middle;\n",
       "    }\n",
       "\n",
       "    .dataframe tbody tr th {\n",
       "        vertical-align: top;\n",
       "    }\n",
       "\n",
       "    .dataframe thead th {\n",
       "        text-align: right;\n",
       "    }\n",
       "</style>\n",
       "<table border=\"1\" class=\"dataframe\">\n",
       "  <thead>\n",
       "    <tr style=\"text-align: right;\">\n",
       "      <th></th>\n",
       "      <th>case_id</th>\n",
       "      <th>continent</th>\n",
       "      <th>education_of_employee</th>\n",
       "      <th>has_job_experience</th>\n",
       "      <th>requires_job_training</th>\n",
       "      <th>no_of_employees</th>\n",
       "      <th>yr_of_estab</th>\n",
       "      <th>region_of_employment</th>\n",
       "      <th>prevailing_wage</th>\n",
       "      <th>unit_of_wage</th>\n",
       "      <th>full_time_position</th>\n",
       "      <th>case_status</th>\n",
       "    </tr>\n",
       "  </thead>\n",
       "  <tbody>\n",
       "    <tr>\n",
       "      <th>0</th>\n",
       "      <td>EZYV01</td>\n",
       "      <td>Asia</td>\n",
       "      <td>High School</td>\n",
       "      <td>N</td>\n",
       "      <td>N</td>\n",
       "      <td>14513</td>\n",
       "      <td>2007</td>\n",
       "      <td>West</td>\n",
       "      <td>592.2029</td>\n",
       "      <td>Hour</td>\n",
       "      <td>Y</td>\n",
       "      <td>Denied</td>\n",
       "    </tr>\n",
       "    <tr>\n",
       "      <th>1</th>\n",
       "      <td>EZYV02</td>\n",
       "      <td>Asia</td>\n",
       "      <td>Master's</td>\n",
       "      <td>Y</td>\n",
       "      <td>N</td>\n",
       "      <td>2412</td>\n",
       "      <td>2002</td>\n",
       "      <td>Northeast</td>\n",
       "      <td>83425.6500</td>\n",
       "      <td>Year</td>\n",
       "      <td>Y</td>\n",
       "      <td>Certified</td>\n",
       "    </tr>\n",
       "    <tr>\n",
       "      <th>2</th>\n",
       "      <td>EZYV03</td>\n",
       "      <td>Asia</td>\n",
       "      <td>Bachelor's</td>\n",
       "      <td>N</td>\n",
       "      <td>Y</td>\n",
       "      <td>44444</td>\n",
       "      <td>2008</td>\n",
       "      <td>West</td>\n",
       "      <td>122996.8600</td>\n",
       "      <td>Year</td>\n",
       "      <td>Y</td>\n",
       "      <td>Denied</td>\n",
       "    </tr>\n",
       "    <tr>\n",
       "      <th>3</th>\n",
       "      <td>EZYV04</td>\n",
       "      <td>Asia</td>\n",
       "      <td>Bachelor's</td>\n",
       "      <td>N</td>\n",
       "      <td>N</td>\n",
       "      <td>98</td>\n",
       "      <td>1897</td>\n",
       "      <td>West</td>\n",
       "      <td>83434.0300</td>\n",
       "      <td>Year</td>\n",
       "      <td>Y</td>\n",
       "      <td>Denied</td>\n",
       "    </tr>\n",
       "    <tr>\n",
       "      <th>4</th>\n",
       "      <td>EZYV05</td>\n",
       "      <td>Africa</td>\n",
       "      <td>Master's</td>\n",
       "      <td>Y</td>\n",
       "      <td>N</td>\n",
       "      <td>1082</td>\n",
       "      <td>2005</td>\n",
       "      <td>South</td>\n",
       "      <td>149907.3900</td>\n",
       "      <td>Year</td>\n",
       "      <td>Y</td>\n",
       "      <td>Certified</td>\n",
       "    </tr>\n",
       "  </tbody>\n",
       "</table>\n",
       "</div>"
      ],
      "text/plain": [
       "  case_id continent education_of_employee has_job_experience  \\\n",
       "0  EZYV01      Asia           High School                  N   \n",
       "1  EZYV02      Asia              Master's                  Y   \n",
       "2  EZYV03      Asia            Bachelor's                  N   \n",
       "3  EZYV04      Asia            Bachelor's                  N   \n",
       "4  EZYV05    Africa              Master's                  Y   \n",
       "\n",
       "  requires_job_training  no_of_employees  yr_of_estab region_of_employment  \\\n",
       "0                     N            14513         2007                 West   \n",
       "1                     N             2412         2002            Northeast   \n",
       "2                     Y            44444         2008                 West   \n",
       "3                     N               98         1897                 West   \n",
       "4                     N             1082         2005                South   \n",
       "\n",
       "   prevailing_wage unit_of_wage full_time_position case_status  \n",
       "0         592.2029         Hour                  Y      Denied  \n",
       "1       83425.6500         Year                  Y   Certified  \n",
       "2      122996.8600         Year                  Y      Denied  \n",
       "3       83434.0300         Year                  Y      Denied  \n",
       "4      149907.3900         Year                  Y   Certified  "
      ]
     },
     "execution_count": 3,
     "metadata": {},
     "output_type": "execute_result"
    }
   ],
   "source": [
    "## lets load the data\n",
    "df = pd.read_csv(\"EasyVisa.csv\")\n",
    "df.head()"
   ]
  },
  {
   "cell_type": "code",
   "execution_count": 4,
   "metadata": {
    "execution": {
     "iopub.execute_input": "2022-04-14T16:25:59.073699Z",
     "iopub.status.busy": "2022-04-14T16:25:59.073344Z",
     "iopub.status.idle": "2022-04-14T16:25:59.080973Z",
     "shell.execute_reply": "2022-04-14T16:25:59.079706Z",
     "shell.execute_reply.started": "2022-04-14T16:25:59.073653Z"
    }
   },
   "outputs": [
    {
     "data": {
      "text/plain": [
       "25480"
      ]
     },
     "execution_count": 4,
     "metadata": {},
     "output_type": "execute_result"
    }
   ],
   "source": [
    "## lets compute the length of the data\n",
    "len(df)"
   ]
  },
  {
   "cell_type": "code",
   "execution_count": 5,
   "metadata": {
    "execution": {
     "iopub.execute_input": "2022-04-14T16:25:59.083736Z",
     "iopub.status.busy": "2022-04-14T16:25:59.083386Z",
     "iopub.status.idle": "2022-04-14T16:25:59.124112Z",
     "shell.execute_reply": "2022-04-14T16:25:59.122408Z",
     "shell.execute_reply.started": "2022-04-14T16:25:59.083691Z"
    }
   },
   "outputs": [
    {
     "name": "stdout",
     "output_type": "stream",
     "text": [
      "<class 'pandas.core.frame.DataFrame'>\n",
      "RangeIndex: 25480 entries, 0 to 25479\n",
      "Data columns (total 12 columns):\n",
      " #   Column                 Non-Null Count  Dtype  \n",
      "---  ------                 --------------  -----  \n",
      " 0   case_id                25480 non-null  object \n",
      " 1   continent              25480 non-null  object \n",
      " 2   education_of_employee  25480 non-null  object \n",
      " 3   has_job_experience     25480 non-null  object \n",
      " 4   requires_job_training  25480 non-null  object \n",
      " 5   no_of_employees        25480 non-null  int64  \n",
      " 6   yr_of_estab            25480 non-null  int64  \n",
      " 7   region_of_employment   25480 non-null  object \n",
      " 8   prevailing_wage        25480 non-null  float64\n",
      " 9   unit_of_wage           25480 non-null  object \n",
      " 10  full_time_position     25480 non-null  object \n",
      " 11  case_status            25480 non-null  object \n",
      "dtypes: float64(1), int64(2), object(9)\n",
      "memory usage: 2.3+ MB\n"
     ]
    }
   ],
   "source": [
    "## lets provide a summary description of our data\n",
    "df.info()"
   ]
  },
  {
   "cell_type": "code",
   "execution_count": 6,
   "metadata": {
    "execution": {
     "iopub.execute_input": "2022-04-14T16:25:59.127381Z",
     "iopub.status.busy": "2022-04-14T16:25:59.125519Z",
     "iopub.status.idle": "2022-04-14T16:25:59.157096Z",
     "shell.execute_reply": "2022-04-14T16:25:59.156200Z",
     "shell.execute_reply.started": "2022-04-14T16:25:59.127339Z"
    }
   },
   "outputs": [
    {
     "data": {
      "text/html": [
       "<div>\n",
       "<style scoped>\n",
       "    .dataframe tbody tr th:only-of-type {\n",
       "        vertical-align: middle;\n",
       "    }\n",
       "\n",
       "    .dataframe tbody tr th {\n",
       "        vertical-align: top;\n",
       "    }\n",
       "\n",
       "    .dataframe thead th {\n",
       "        text-align: right;\n",
       "    }\n",
       "</style>\n",
       "<table border=\"1\" class=\"dataframe\">\n",
       "  <thead>\n",
       "    <tr style=\"text-align: right;\">\n",
       "      <th></th>\n",
       "      <th>no_of_employees</th>\n",
       "      <th>yr_of_estab</th>\n",
       "      <th>prevailing_wage</th>\n",
       "    </tr>\n",
       "  </thead>\n",
       "  <tbody>\n",
       "    <tr>\n",
       "      <th>count</th>\n",
       "      <td>25480.0</td>\n",
       "      <td>25480.0</td>\n",
       "      <td>25480.0</td>\n",
       "    </tr>\n",
       "    <tr>\n",
       "      <th>mean</th>\n",
       "      <td>5667.0</td>\n",
       "      <td>1979.0</td>\n",
       "      <td>74456.0</td>\n",
       "    </tr>\n",
       "    <tr>\n",
       "      <th>std</th>\n",
       "      <td>22878.0</td>\n",
       "      <td>42.0</td>\n",
       "      <td>52816.0</td>\n",
       "    </tr>\n",
       "    <tr>\n",
       "      <th>min</th>\n",
       "      <td>-26.0</td>\n",
       "      <td>1800.0</td>\n",
       "      <td>2.0</td>\n",
       "    </tr>\n",
       "    <tr>\n",
       "      <th>25%</th>\n",
       "      <td>1022.0</td>\n",
       "      <td>1976.0</td>\n",
       "      <td>34015.0</td>\n",
       "    </tr>\n",
       "    <tr>\n",
       "      <th>50%</th>\n",
       "      <td>2109.0</td>\n",
       "      <td>1997.0</td>\n",
       "      <td>70308.0</td>\n",
       "    </tr>\n",
       "    <tr>\n",
       "      <th>75%</th>\n",
       "      <td>3504.0</td>\n",
       "      <td>2005.0</td>\n",
       "      <td>107736.0</td>\n",
       "    </tr>\n",
       "    <tr>\n",
       "      <th>max</th>\n",
       "      <td>602069.0</td>\n",
       "      <td>2016.0</td>\n",
       "      <td>319210.0</td>\n",
       "    </tr>\n",
       "  </tbody>\n",
       "</table>\n",
       "</div>"
      ],
      "text/plain": [
       "       no_of_employees  yr_of_estab  prevailing_wage\n",
       "count          25480.0      25480.0          25480.0\n",
       "mean            5667.0       1979.0          74456.0\n",
       "std            22878.0         42.0          52816.0\n",
       "min              -26.0       1800.0              2.0\n",
       "25%             1022.0       1976.0          34015.0\n",
       "50%             2109.0       1997.0          70308.0\n",
       "75%             3504.0       2005.0         107736.0\n",
       "max           602069.0       2016.0         319210.0"
      ]
     },
     "execution_count": 6,
     "metadata": {},
     "output_type": "execute_result"
    }
   ],
   "source": [
    "## lets provide a summary statistics of the data\n",
    "df.describe().round()"
   ]
  },
  {
   "cell_type": "code",
   "execution_count": 7,
   "metadata": {
    "execution": {
     "iopub.execute_input": "2022-04-14T16:25:59.158855Z",
     "iopub.status.busy": "2022-04-14T16:25:59.158457Z",
     "iopub.status.idle": "2022-04-14T16:25:59.167286Z",
     "shell.execute_reply": "2022-04-14T16:25:59.166161Z",
     "shell.execute_reply.started": "2022-04-14T16:25:59.158798Z"
    }
   },
   "outputs": [
    {
     "data": {
      "text/plain": [
       "case_id                   object\n",
       "continent                 object\n",
       "education_of_employee     object\n",
       "has_job_experience        object\n",
       "requires_job_training     object\n",
       "no_of_employees            int64\n",
       "yr_of_estab                int64\n",
       "region_of_employment      object\n",
       "prevailing_wage          float64\n",
       "unit_of_wage              object\n",
       "full_time_position        object\n",
       "case_status               object\n",
       "dtype: object"
      ]
     },
     "execution_count": 7,
     "metadata": {},
     "output_type": "execute_result"
    }
   ],
   "source": [
    "## lets check the data types\n",
    "df.dtypes"
   ]
  },
  {
   "cell_type": "code",
   "execution_count": 8,
   "metadata": {
    "execution": {
     "iopub.execute_input": "2022-04-14T16:25:59.171202Z",
     "iopub.status.busy": "2022-04-14T16:25:59.169880Z",
     "iopub.status.idle": "2022-04-14T16:25:59.178971Z",
     "shell.execute_reply": "2022-04-14T16:25:59.177809Z",
     "shell.execute_reply.started": "2022-04-14T16:25:59.171143Z"
    }
   },
   "outputs": [],
   "source": [
    "## lets drop the id column sinces it is irrelevant to our analysis\n",
    "del df[\"case_id\"]"
   ]
  },
  {
   "cell_type": "code",
   "execution_count": 9,
   "metadata": {
    "execution": {
     "iopub.execute_input": "2022-04-14T16:25:59.190977Z",
     "iopub.status.busy": "2022-04-14T16:25:59.190162Z",
     "iopub.status.idle": "2022-04-14T16:25:59.210230Z",
     "shell.execute_reply": "2022-04-14T16:25:59.209138Z",
     "shell.execute_reply.started": "2022-04-14T16:25:59.190925Z"
    }
   },
   "outputs": [
    {
     "data": {
      "text/html": [
       "<div>\n",
       "<style scoped>\n",
       "    .dataframe tbody tr th:only-of-type {\n",
       "        vertical-align: middle;\n",
       "    }\n",
       "\n",
       "    .dataframe tbody tr th {\n",
       "        vertical-align: top;\n",
       "    }\n",
       "\n",
       "    .dataframe thead th {\n",
       "        text-align: right;\n",
       "    }\n",
       "</style>\n",
       "<table border=\"1\" class=\"dataframe\">\n",
       "  <thead>\n",
       "    <tr style=\"text-align: right;\">\n",
       "      <th></th>\n",
       "      <th>continent</th>\n",
       "      <th>education_of_employee</th>\n",
       "      <th>has_job_experience</th>\n",
       "      <th>requires_job_training</th>\n",
       "      <th>no_of_employees</th>\n",
       "      <th>yr_of_estab</th>\n",
       "      <th>region_of_employment</th>\n",
       "      <th>prevailing_wage</th>\n",
       "      <th>unit_of_wage</th>\n",
       "      <th>full_time_position</th>\n",
       "      <th>case_status</th>\n",
       "    </tr>\n",
       "  </thead>\n",
       "  <tbody>\n",
       "    <tr>\n",
       "      <th>0</th>\n",
       "      <td>Asia</td>\n",
       "      <td>High School</td>\n",
       "      <td>N</td>\n",
       "      <td>N</td>\n",
       "      <td>14513</td>\n",
       "      <td>2007</td>\n",
       "      <td>West</td>\n",
       "      <td>592.2029</td>\n",
       "      <td>Hour</td>\n",
       "      <td>Y</td>\n",
       "      <td>Denied</td>\n",
       "    </tr>\n",
       "    <tr>\n",
       "      <th>1</th>\n",
       "      <td>Asia</td>\n",
       "      <td>Master's</td>\n",
       "      <td>Y</td>\n",
       "      <td>N</td>\n",
       "      <td>2412</td>\n",
       "      <td>2002</td>\n",
       "      <td>Northeast</td>\n",
       "      <td>83425.6500</td>\n",
       "      <td>Year</td>\n",
       "      <td>Y</td>\n",
       "      <td>Certified</td>\n",
       "    </tr>\n",
       "    <tr>\n",
       "      <th>2</th>\n",
       "      <td>Asia</td>\n",
       "      <td>Bachelor's</td>\n",
       "      <td>N</td>\n",
       "      <td>Y</td>\n",
       "      <td>44444</td>\n",
       "      <td>2008</td>\n",
       "      <td>West</td>\n",
       "      <td>122996.8600</td>\n",
       "      <td>Year</td>\n",
       "      <td>Y</td>\n",
       "      <td>Denied</td>\n",
       "    </tr>\n",
       "    <tr>\n",
       "      <th>3</th>\n",
       "      <td>Asia</td>\n",
       "      <td>Bachelor's</td>\n",
       "      <td>N</td>\n",
       "      <td>N</td>\n",
       "      <td>98</td>\n",
       "      <td>1897</td>\n",
       "      <td>West</td>\n",
       "      <td>83434.0300</td>\n",
       "      <td>Year</td>\n",
       "      <td>Y</td>\n",
       "      <td>Denied</td>\n",
       "    </tr>\n",
       "    <tr>\n",
       "      <th>4</th>\n",
       "      <td>Africa</td>\n",
       "      <td>Master's</td>\n",
       "      <td>Y</td>\n",
       "      <td>N</td>\n",
       "      <td>1082</td>\n",
       "      <td>2005</td>\n",
       "      <td>South</td>\n",
       "      <td>149907.3900</td>\n",
       "      <td>Year</td>\n",
       "      <td>Y</td>\n",
       "      <td>Certified</td>\n",
       "    </tr>\n",
       "  </tbody>\n",
       "</table>\n",
       "</div>"
      ],
      "text/plain": [
       "  continent education_of_employee has_job_experience requires_job_training  \\\n",
       "0      Asia           High School                  N                     N   \n",
       "1      Asia              Master's                  Y                     N   \n",
       "2      Asia            Bachelor's                  N                     Y   \n",
       "3      Asia            Bachelor's                  N                     N   \n",
       "4    Africa              Master's                  Y                     N   \n",
       "\n",
       "   no_of_employees  yr_of_estab region_of_employment  prevailing_wage  \\\n",
       "0            14513         2007                 West         592.2029   \n",
       "1             2412         2002            Northeast       83425.6500   \n",
       "2            44444         2008                 West      122996.8600   \n",
       "3               98         1897                 West       83434.0300   \n",
       "4             1082         2005                South      149907.3900   \n",
       "\n",
       "  unit_of_wage full_time_position case_status  \n",
       "0         Hour                  Y      Denied  \n",
       "1         Year                  Y   Certified  \n",
       "2         Year                  Y      Denied  \n",
       "3         Year                  Y      Denied  \n",
       "4         Year                  Y   Certified  "
      ]
     },
     "execution_count": 9,
     "metadata": {},
     "output_type": "execute_result"
    }
   ],
   "source": [
    "## lets provide an overview of the data\n",
    "df.head()"
   ]
  },
  {
   "cell_type": "markdown",
   "metadata": {
    "id": "seasonal-calibration"
   },
   "source": [
    "## Exploratory Data Analysis (EDA)\n",
    "\n",
    "- EDA is an important part of any project involving data.\n",
    "- It is important to investigate and understand the data better before building a model with it.\n",
    "- A few questions have been mentioned below which will help you approach the analysis in the right manner and generate insights from the data.\n",
    "- A thorough analysis of the data, in addition to the questions mentioned below, should be done."
   ]
  },
  {
   "cell_type": "markdown",
   "metadata": {
    "id": "classified-traveler"
   },
   "source": [
    "**Leading Questions**:\n",
    "1. Those with higher education may want to travel abroad for a well-paid job. Does education play a role in Visa certification? \n",
    "\n",
    "2. How does the visa status vary across different continents? \n",
    " \n",
    "3. Experienced professionals might look abroad for opportunities to improve their lifestyles and career development. Does work experience influence visa status? \n",
    " \n",
    "4. In the United States, employees are paid at different intervals. Which pay unit is most likely to be certified for a visa? \n",
    " \n",
    "5. The US government has established a prevailing wage to protect local talent and foreign workers. How does the visa status change with the prevailing wage?"
   ]
  },
  {
   "cell_type": "markdown",
   "metadata": {
    "id": "right-permit"
   },
   "source": [
    "### 1. Does education play a role in Visa certification? "
   ]
  },
  {
   "cell_type": "code",
   "execution_count": 10,
   "metadata": {
    "execution": {
     "iopub.execute_input": "2022-04-14T16:25:59.336800Z",
     "iopub.status.busy": "2022-04-14T16:25:59.336562Z",
     "iopub.status.idle": "2022-04-14T16:25:59.658446Z",
     "shell.execute_reply": "2022-04-14T16:25:59.657131Z",
     "shell.execute_reply.started": "2022-04-14T16:25:59.336770Z"
    },
    "id": "mechanical-interference"
   },
   "outputs": [
    {
     "data": {
      "image/png": "[encoded data removed]",
      "text/plain": [
       "<Figure size 576x360 with 1 Axes>"
      ]
     },
     "metadata": {},
     "output_type": "display_data"
    }
   ],
   "source": [
    "plt.figure(figsize=(8,5))\n",
    "\n",
    "sns.countplot(data=df, x=\"education_of_employee\", hue=\"case_status\")\n",
    "\n",
    "plt.title(\"Role Of Education In Visa Certification\")\n",
    "plt.ylabel(\"Frequency\")\n",
    "plt.xlabel(\"Level Of Education Of Employee\")\n",
    "\n",
    "\n",
    "plt.show()"
   ]
  },
  {
   "cell_type": "markdown",
   "metadata": {},
   "source": [
    "### 2. How Does The Visa Status Vary Across Different Continents? "
   ]
  },
  {
   "cell_type": "code",
   "execution_count": 11,
   "metadata": {
    "execution": {
     "iopub.execute_input": "2022-04-14T16:25:59.660977Z",
     "iopub.status.busy": "2022-04-14T16:25:59.660502Z",
     "iopub.status.idle": "2022-04-14T16:25:59.987235Z",
     "shell.execute_reply": "2022-04-14T16:25:59.986185Z",
     "shell.execute_reply.started": "2022-04-14T16:25:59.660932Z"
    }
   },
   "outputs": [
    {
     "data": {
      "image/png": "[encoded data removed]",
      "text/plain": [
       "<Figure size 576x360 with 1 Axes>"
      ]
     },
     "metadata": {},
     "output_type": "display_data"
    }
   ],
   "source": [
    "plt.figure(figsize=(8,5))\n",
    "\n",
    "sns.countplot(data=df, x=\"continent\", hue=\"case_status\")\n",
    "\n",
    "plt.title(\"Visa Status Across Different Continents\")\n",
    "plt.ylabel(\"Frequency\")\n",
    "plt.xlabel(\"Various Countries\")\n",
    "\n",
    "\n",
    "plt.show()"
   ]
  },
  {
   "cell_type": "markdown",
   "metadata": {},
   "source": [
    "### 3. Does Work Experience Influence Visa Status? "
   ]
  },
  {
   "cell_type": "code",
   "execution_count": 12,
   "metadata": {
    "execution": {
     "iopub.execute_input": "2022-04-14T16:25:59.989792Z",
     "iopub.status.busy": "2022-04-14T16:25:59.989440Z",
     "iopub.status.idle": "2022-04-14T16:26:00.252491Z",
     "shell.execute_reply": "2022-04-14T16:26:00.251297Z",
     "shell.execute_reply.started": "2022-04-14T16:25:59.989749Z"
    }
   },
   "outputs": [
    {
     "data": {
      "image/png": "[encoded data removed]",
      "text/plain": [
       "<Figure size 576x360 with 1 Axes>"
      ]
     },
     "metadata": {},
     "output_type": "display_data"
    }
   ],
   "source": [
    "plt.figure(figsize=(8,5))\n",
    "\n",
    "sns.countplot(data=df, x=\"has_job_experience\", hue=\"case_status\")\n",
    "\n",
    "plt.title(\"Work Experience Influence On Visa Status\")\n",
    "plt.ylabel(\"Frequency\")\n",
    "plt.xlabel(\"Job Experience\")\n",
    "\n",
    "\n",
    "plt.show()"
   ]
  },
  {
   "cell_type": "markdown",
   "metadata": {},
   "source": [
    "### 4.Which pay unit is most likely to be certified for a visa? "
   ]
  },
  {
   "cell_type": "code",
   "execution_count": 13,
   "metadata": {
    "execution": {
     "iopub.execute_input": "2022-04-14T16:26:00.255836Z",
     "iopub.status.busy": "2022-04-14T16:26:00.255336Z",
     "iopub.status.idle": "2022-04-14T16:26:00.567592Z",
     "shell.execute_reply": "2022-04-14T16:26:00.566557Z",
     "shell.execute_reply.started": "2022-04-14T16:26:00.255790Z"
    }
   },
   "outputs": [
    {
     "data": {
      "image/png": "[encoded data removed]",
      "text/plain": [
       "<Figure size 576x360 with 1 Axes>"
      ]
     },
     "metadata": {},
     "output_type": "display_data"
    }
   ],
   "source": [
    "plt.figure(figsize=(8,5))\n",
    "\n",
    "sns.countplot(data=df, x=\"unit_of_wage\", hue=\"case_status\")\n",
    "\n",
    "plt.title(\"Pay Unit Most Likely To Be Certified For A Visa\")\n",
    "plt.ylabel(\"Frequency\")\n",
    "plt.xlabel(\"Unit Of Wage\")\n",
    "\n",
    "\n",
    "plt.show()"
   ]
  },
  {
   "cell_type": "markdown",
   "metadata": {},
   "source": [
    " ### 5.How Does The Visa Status Change With The Prevailing Wage?"
   ]
  },
  {
   "cell_type": "code",
   "execution_count": 14,
   "metadata": {
    "execution": {
     "iopub.execute_input": "2022-04-14T16:26:00.570201Z",
     "iopub.status.busy": "2022-04-14T16:26:00.569131Z",
     "iopub.status.idle": "2022-04-14T16:26:01.130748Z",
     "shell.execute_reply": "2022-04-14T16:26:01.129704Z",
     "shell.execute_reply.started": "2022-04-14T16:26:00.570153Z"
    }
   },
   "outputs": [
    {
     "data": {
      "image/png": "[encoded data removed]",
      "text/plain": [
       "<Figure size 504x288 with 1 Axes>"
      ]
     },
     "metadata": {},
     "output_type": "display_data"
    }
   ],
   "source": [
    "plt.figure(figsize=(7,4))\n",
    "\n",
    "sns.barplot(data=df, y=\"prevailing_wage\", x=\"case_status\")\n",
    "plt.title(\"Change In Visa Status With Respect To Privailing Wages\")\n",
    "plt.ylabel(\"Frequency\")\n",
    "plt.xlabel(\"Visa Status\")\n",
    "\n",
    "\n",
    "plt.show()"
   ]
  },
  {
   "cell_type": "markdown",
   "metadata": {
    "id": "alleged-spirituality"
   },
   "source": [
    "## Data Preprocessing\n",
    "\n",
    "- Missing value treatment (if needed)\n",
    "- Feature engineering \n",
    "- Outlier detection and treatment (if needed)\n",
    "- Preparing data for modeling \n",
    "- Any other preprocessing steps (if needed)"
   ]
  },
  {
   "cell_type": "code",
   "execution_count": 15,
   "metadata": {
    "execution": {
     "iopub.execute_input": "2022-04-14T16:26:01.132713Z",
     "iopub.status.busy": "2022-04-14T16:26:01.132388Z",
     "iopub.status.idle": "2022-04-14T16:26:01.147831Z",
     "shell.execute_reply": "2022-04-14T16:26:01.146823Z",
     "shell.execute_reply.started": "2022-04-14T16:26:01.132667Z"
    }
   },
   "outputs": [],
   "source": [
    "## lets make a copy of the dataframe \n",
    "data = df.copy()"
   ]
  },
  {
   "cell_type": "markdown",
   "metadata": {},
   "source": [
    "### Missing Value Check"
   ]
  },
  {
   "cell_type": "code",
   "execution_count": 16,
   "metadata": {
    "execution": {
     "iopub.execute_input": "2022-04-14T16:26:01.149792Z",
     "iopub.status.busy": "2022-04-14T16:26:01.149469Z",
     "iopub.status.idle": "2022-04-14T16:26:01.179689Z",
     "shell.execute_reply": "2022-04-14T16:26:01.178642Z",
     "shell.execute_reply.started": "2022-04-14T16:26:01.149750Z"
    },
    "id": "increasing-louisiana"
   },
   "outputs": [
    {
     "data": {
      "text/plain": [
       "continent                0\n",
       "education_of_employee    0\n",
       "has_job_experience       0\n",
       "requires_job_training    0\n",
       "no_of_employees          0\n",
       "yr_of_estab              0\n",
       "region_of_employment     0\n",
       "prevailing_wage          0\n",
       "unit_of_wage             0\n",
       "full_time_position       0\n",
       "case_status              0\n",
       "dtype: int64"
      ]
     },
     "execution_count": 16,
     "metadata": {},
     "output_type": "execute_result"
    }
   ],
   "source": [
    "## let's check for missing values \n",
    "data.isnull().sum()"
   ]
  },
  {
   "cell_type": "markdown",
   "metadata": {},
   "source": [
    "### Outlier Check \n",
    "- Lets check for outliers in the data"
   ]
  },
  {
   "cell_type": "code",
   "execution_count": 17,
   "metadata": {
    "execution": {
     "iopub.execute_input": "2022-04-14T16:26:01.182026Z",
     "iopub.status.busy": "2022-04-14T16:26:01.181638Z",
     "iopub.status.idle": "2022-04-14T16:26:01.415329Z",
     "shell.execute_reply": "2022-04-14T16:26:01.414292Z",
     "shell.execute_reply.started": "2022-04-14T16:26:01.181985Z"
    }
   },
   "outputs": [
    {
     "data": {
      "image/png": "[encoded data removed]",
      "text/plain": [
       "<Figure size 432x288 with 1 Axes>"
      ]
     },
     "metadata": {},
     "output_type": "display_data"
    }
   ],
   "source": [
    "## let's check the outlier distribution on the \n",
    "sns.boxplot(x=data[\"prevailing_wage\"])\n",
    "\n",
    "plt.show()"
   ]
  },
  {
   "cell_type": "markdown",
   "metadata": {},
   "source": [
    "### Target Variable Conversion "
   ]
  },
  {
   "cell_type": "code",
   "execution_count": 18,
   "metadata": {
    "execution": {
     "iopub.execute_input": "2022-04-14T16:26:01.417256Z",
     "iopub.status.busy": "2022-04-14T16:26:01.416802Z",
     "iopub.status.idle": "2022-04-14T16:26:01.435574Z",
     "shell.execute_reply": "2022-04-14T16:26:01.434487Z",
     "shell.execute_reply.started": "2022-04-14T16:26:01.417200Z"
    }
   },
   "outputs": [
    {
     "data": {
      "text/plain": [
       "0    0\n",
       "1    1\n",
       "2    0\n",
       "3    0\n",
       "4    1\n",
       "Name: case_status, dtype: int64"
      ]
     },
     "execution_count": 18,
     "metadata": {},
     "output_type": "execute_result"
    }
   ],
   "source": [
    "data.case_status = (data.case_status == \"Certified\").astype(int)\n",
    "data.case_status.head()"
   ]
  },
  {
   "cell_type": "markdown",
   "metadata": {},
   "source": [
    "### Preparing data for modeling \n",
    "- Lets split the data into the following proportion\n",
    "    - training set 60%\n",
    "    - validation dataset 20%\n",
    "    - test data 20%"
   ]
  },
  {
   "cell_type": "code",
   "execution_count": 19,
   "metadata": {
    "execution": {
     "iopub.execute_input": "2022-04-14T16:26:01.441425Z",
     "iopub.status.busy": "2022-04-14T16:26:01.440418Z",
     "iopub.status.idle": "2022-04-14T16:26:01.461137Z",
     "shell.execute_reply": "2022-04-14T16:26:01.459980Z",
     "shell.execute_reply.started": "2022-04-14T16:26:01.441379Z"
    }
   },
   "outputs": [
    {
     "data": {
      "text/html": [
       "<div>\n",
       "<style scoped>\n",
       "    .dataframe tbody tr th:only-of-type {\n",
       "        vertical-align: middle;\n",
       "    }\n",
       "\n",
       "    .dataframe tbody tr th {\n",
       "        vertical-align: top;\n",
       "    }\n",
       "\n",
       "    .dataframe thead th {\n",
       "        text-align: right;\n",
       "    }\n",
       "</style>\n",
       "<table border=\"1\" class=\"dataframe\">\n",
       "  <thead>\n",
       "    <tr style=\"text-align: right;\">\n",
       "      <th></th>\n",
       "      <th>continent</th>\n",
       "      <th>education_of_employee</th>\n",
       "      <th>has_job_experience</th>\n",
       "      <th>requires_job_training</th>\n",
       "      <th>no_of_employees</th>\n",
       "      <th>yr_of_estab</th>\n",
       "      <th>region_of_employment</th>\n",
       "      <th>prevailing_wage</th>\n",
       "      <th>unit_of_wage</th>\n",
       "      <th>full_time_position</th>\n",
       "      <th>case_status</th>\n",
       "    </tr>\n",
       "  </thead>\n",
       "  <tbody>\n",
       "    <tr>\n",
       "      <th>0</th>\n",
       "      <td>Asia</td>\n",
       "      <td>High School</td>\n",
       "      <td>N</td>\n",
       "      <td>N</td>\n",
       "      <td>14513</td>\n",
       "      <td>2007</td>\n",
       "      <td>West</td>\n",
       "      <td>592.2029</td>\n",
       "      <td>Hour</td>\n",
       "      <td>Y</td>\n",
       "      <td>0</td>\n",
       "    </tr>\n",
       "    <tr>\n",
       "      <th>1</th>\n",
       "      <td>Asia</td>\n",
       "      <td>Master's</td>\n",
       "      <td>Y</td>\n",
       "      <td>N</td>\n",
       "      <td>2412</td>\n",
       "      <td>2002</td>\n",
       "      <td>Northeast</td>\n",
       "      <td>83425.6500</td>\n",
       "      <td>Year</td>\n",
       "      <td>Y</td>\n",
       "      <td>1</td>\n",
       "    </tr>\n",
       "    <tr>\n",
       "      <th>2</th>\n",
       "      <td>Asia</td>\n",
       "      <td>Bachelor's</td>\n",
       "      <td>N</td>\n",
       "      <td>Y</td>\n",
       "      <td>44444</td>\n",
       "      <td>2008</td>\n",
       "      <td>West</td>\n",
       "      <td>122996.8600</td>\n",
       "      <td>Year</td>\n",
       "      <td>Y</td>\n",
       "      <td>0</td>\n",
       "    </tr>\n",
       "    <tr>\n",
       "      <th>3</th>\n",
       "      <td>Asia</td>\n",
       "      <td>Bachelor's</td>\n",
       "      <td>N</td>\n",
       "      <td>N</td>\n",
       "      <td>98</td>\n",
       "      <td>1897</td>\n",
       "      <td>West</td>\n",
       "      <td>83434.0300</td>\n",
       "      <td>Year</td>\n",
       "      <td>Y</td>\n",
       "      <td>0</td>\n",
       "    </tr>\n",
       "    <tr>\n",
       "      <th>4</th>\n",
       "      <td>Africa</td>\n",
       "      <td>Master's</td>\n",
       "      <td>Y</td>\n",
       "      <td>N</td>\n",
       "      <td>1082</td>\n",
       "      <td>2005</td>\n",
       "      <td>South</td>\n",
       "      <td>149907.3900</td>\n",
       "      <td>Year</td>\n",
       "      <td>Y</td>\n",
       "      <td>1</td>\n",
       "    </tr>\n",
       "  </tbody>\n",
       "</table>\n",
       "</div>"
      ],
      "text/plain": [
       "  continent education_of_employee has_job_experience requires_job_training  \\\n",
       "0      Asia           High School                  N                     N   \n",
       "1      Asia              Master's                  Y                     N   \n",
       "2      Asia            Bachelor's                  N                     Y   \n",
       "3      Asia            Bachelor's                  N                     N   \n",
       "4    Africa              Master's                  Y                     N   \n",
       "\n",
       "   no_of_employees  yr_of_estab region_of_employment  prevailing_wage  \\\n",
       "0            14513         2007                 West         592.2029   \n",
       "1             2412         2002            Northeast       83425.6500   \n",
       "2            44444         2008                 West      122996.8600   \n",
       "3               98         1897                 West       83434.0300   \n",
       "4             1082         2005                South      149907.3900   \n",
       "\n",
       "  unit_of_wage full_time_position  case_status  \n",
       "0         Hour                  Y            0  \n",
       "1         Year                  Y            1  \n",
       "2         Year                  Y            0  \n",
       "3         Year                  Y            0  \n",
       "4         Year                  Y            1  "
      ]
     },
     "execution_count": 19,
     "metadata": {},
     "output_type": "execute_result"
    }
   ],
   "source": [
    "data.head()"
   ]
  },
  {
   "cell_type": "code",
   "execution_count": 20,
   "metadata": {
    "execution": {
     "iopub.execute_input": "2022-04-14T16:26:01.463732Z",
     "iopub.status.busy": "2022-04-14T16:26:01.463328Z",
     "iopub.status.idle": "2022-04-14T16:26:01.541787Z",
     "shell.execute_reply": "2022-04-14T16:26:01.540776Z",
     "shell.execute_reply.started": "2022-04-14T16:26:01.463686Z"
    }
   },
   "outputs": [],
   "source": [
    "from sklearn.model_selection import train_test_split\n",
    "\n",
    "df_train_full, df_test = train_test_split(data, test_size=0.2, random_state=11)\n",
    "\n",
    "df_train, df_valid = train_test_split(df_train_full, test_size=0.25, random_state=11)"
   ]
  },
  {
   "cell_type": "code",
   "execution_count": 21,
   "metadata": {
    "execution": {
     "iopub.execute_input": "2022-04-14T16:26:01.545596Z",
     "iopub.status.busy": "2022-04-14T16:26:01.544813Z",
     "iopub.status.idle": "2022-04-14T16:26:01.552949Z",
     "shell.execute_reply": "2022-04-14T16:26:01.551853Z",
     "shell.execute_reply.started": "2022-04-14T16:26:01.545551Z"
    }
   },
   "outputs": [
    {
     "name": "stdout",
     "output_type": "stream",
     "text": [
      "Train set 15288\n",
      "Valid set 5096\n",
      "Test set 5096\n"
     ]
    }
   ],
   "source": [
    "print(f'Train set {len(df_train)}')\n",
    "print(f'Valid set {len(df_valid)}')\n",
    "print(f'Test set {len(df_test)}')"
   ]
  },
  {
   "cell_type": "markdown",
   "metadata": {},
   "source": [
    "### Lets Select all the target "
   ]
  },
  {
   "cell_type": "code",
   "execution_count": 22,
   "metadata": {
    "execution": {
     "iopub.execute_input": "2022-04-14T16:26:01.555669Z",
     "iopub.status.busy": "2022-04-14T16:26:01.554934Z",
     "iopub.status.idle": "2022-04-14T16:26:01.564333Z",
     "shell.execute_reply": "2022-04-14T16:26:01.563296Z",
     "shell.execute_reply.started": "2022-04-14T16:26:01.555620Z"
    }
   },
   "outputs": [],
   "source": [
    "## lets select the target column from the dataset\n",
    "y_train = df_train.case_status.values\n",
    "y_valid = df_valid.case_status.values\n"
   ]
  },
  {
   "cell_type": "code",
   "execution_count": 23,
   "metadata": {
    "execution": {
     "iopub.execute_input": "2022-04-14T16:26:01.566894Z",
     "iopub.status.busy": "2022-04-14T16:26:01.565839Z",
     "iopub.status.idle": "2022-04-14T16:26:01.575683Z",
     "shell.execute_reply": "2022-04-14T16:26:01.574608Z",
     "shell.execute_reply.started": "2022-04-14T16:26:01.566848Z"
    }
   },
   "outputs": [],
   "source": [
    "## lets delete all the target column from the training data\n",
    "del df_train['case_status']\n",
    "del df_valid['case_status']\n"
   ]
  },
  {
   "cell_type": "markdown",
   "metadata": {},
   "source": [
    "### Target Variable Analysis "
   ]
  },
  {
   "cell_type": "code",
   "execution_count": 24,
   "metadata": {
    "execution": {
     "iopub.execute_input": "2022-04-14T16:26:01.578140Z",
     "iopub.status.busy": "2022-04-14T16:26:01.577647Z",
     "iopub.status.idle": "2022-04-14T16:26:01.591389Z",
     "shell.execute_reply": "2022-04-14T16:26:01.589989Z",
     "shell.execute_reply.started": "2022-04-14T16:26:01.577993Z"
    }
   },
   "outputs": [
    {
     "data": {
      "text/plain": [
       "1    13601\n",
       "0     6783\n",
       "Name: case_status, dtype: int64"
      ]
     },
     "execution_count": 24,
     "metadata": {},
     "output_type": "execute_result"
    }
   ],
   "source": [
    "df_train_full.case_status.value_counts()"
   ]
  },
  {
   "cell_type": "markdown",
   "metadata": {},
   "source": [
    "### Global Visa Approval Rate"
   ]
  },
  {
   "cell_type": "code",
   "execution_count": 25,
   "metadata": {
    "execution": {
     "iopub.execute_input": "2022-04-14T16:26:01.594366Z",
     "iopub.status.busy": "2022-04-14T16:26:01.592711Z",
     "iopub.status.idle": "2022-04-14T16:26:01.602047Z",
     "shell.execute_reply": "2022-04-14T16:26:01.600775Z",
     "shell.execute_reply.started": "2022-04-14T16:26:01.594322Z"
    }
   },
   "outputs": [
    {
     "name": "stdout",
     "output_type": "stream",
     "text": [
      "Visa Global Approval Rate: 0.67\n"
     ]
    }
   ],
   "source": [
    "## lets check the global visa approval rate \n",
    "global_approval_rate = df_train_full.case_status.mean()\n",
    "print(f\"Visa Global Approval Rate: {round(global_approval_rate, 2)}\")"
   ]
  },
  {
   "cell_type": "markdown",
   "metadata": {},
   "source": [
    "### Seperate Data Into Both Categorical And Numerical Data"
   ]
  },
  {
   "cell_type": "code",
   "execution_count": 26,
   "metadata": {
    "execution": {
     "iopub.execute_input": "2022-04-14T16:26:01.604802Z",
     "iopub.status.busy": "2022-04-14T16:26:01.604049Z",
     "iopub.status.idle": "2022-04-14T16:26:01.611400Z",
     "shell.execute_reply": "2022-04-14T16:26:01.610270Z",
     "shell.execute_reply.started": "2022-04-14T16:26:01.604741Z"
    }
   },
   "outputs": [],
   "source": [
    "numerical_var = [\"no_of_employees\", \"yr_of_estab\", \"prevailing_wage\"]\n",
    "\n",
    "categorical_var = [\"continent\", \"education_of_employee\", \"has_job_experience\", \"requires_job_training\",\n",
    "                   \"region_of_employment\", \"unit_of_wage\", \"full_time_position\"]"
   ]
  },
  {
   "cell_type": "markdown",
   "metadata": {},
   "source": [
    "### Unique Values In Categorical Data"
   ]
  },
  {
   "cell_type": "markdown",
   "metadata": {},
   "source": [
    "### Feature Importance\n",
    "We are going to understand how other variable in our dataset affects the target variable book_status. \n",
    "- We start by looking at categorical variables by looking at the approval rate for each variable"
   ]
  },
  {
   "cell_type": "code",
   "execution_count": 27,
   "metadata": {
    "execution": {
     "iopub.execute_input": "2022-04-14T16:26:01.614119Z",
     "iopub.status.busy": "2022-04-14T16:26:01.613261Z",
     "iopub.status.idle": "2022-04-14T16:26:01.639975Z",
     "shell.execute_reply": "2022-04-14T16:26:01.638869Z",
     "shell.execute_reply.started": "2022-04-14T16:26:01.613980Z"
    }
   },
   "outputs": [
    {
     "data": {
      "text/plain": [
       "continent                6\n",
       "education_of_employee    4\n",
       "has_job_experience       2\n",
       "requires_job_training    2\n",
       "region_of_employment     5\n",
       "unit_of_wage             4\n",
       "full_time_position       2\n",
       "dtype: int64"
      ]
     },
     "execution_count": 27,
     "metadata": {},
     "output_type": "execute_result"
    }
   ],
   "source": [
    "## lets check for unique values in each categorical variables \n",
    "df_train_full[categorical_var].nunique()"
   ]
  },
  {
   "cell_type": "markdown",
   "metadata": {},
   "source": [
    "#### Job Experience "
   ]
  },
  {
   "cell_type": "code",
   "execution_count": 28,
   "metadata": {
    "execution": {
     "iopub.execute_input": "2022-04-14T16:26:01.642522Z",
     "iopub.status.busy": "2022-04-14T16:26:01.641852Z",
     "iopub.status.idle": "2022-04-14T16:26:01.653068Z",
     "shell.execute_reply": "2022-04-14T16:26:01.651879Z",
     "shell.execute_reply.started": "2022-04-14T16:26:01.642478Z"
    }
   },
   "outputs": [
    {
     "data": {
      "text/plain": [
       "array(['Y', 'N'], dtype=object)"
      ]
     },
     "execution_count": 28,
     "metadata": {},
     "output_type": "execute_result"
    }
   ],
   "source": [
    "df_train_full['has_job_experience'].unique()"
   ]
  },
  {
   "cell_type": "code",
   "execution_count": 29,
   "metadata": {
    "execution": {
     "iopub.execute_input": "2022-04-14T16:26:01.655636Z",
     "iopub.status.busy": "2022-04-14T16:26:01.654972Z",
     "iopub.status.idle": "2022-04-14T16:26:01.674625Z",
     "shell.execute_reply": "2022-04-14T16:26:01.673444Z",
     "shell.execute_reply.started": "2022-04-14T16:26:01.655592Z"
    }
   },
   "outputs": [
    {
     "name": "stdout",
     "output_type": "stream",
     "text": [
      "Approval Rate For Applicants With Job Experience: 0.743\n",
      "Approval Rate For Applicants With No Job Experience: 0.563\n"
     ]
    }
   ],
   "source": [
    "yes_job_exp = df_train_full[df_train_full.has_job_experience == 'Y'].case_status.mean()\n",
    "print(f\"Approval Rate For Applicants With Job Experience: {round(yes_job_exp, 3)}\")\n",
    "\n",
    "no_job_exp = df_train_full[df_train_full.has_job_experience == 'N'].case_status.mean()\n",
    "print(f\"Approval Rate For Applicants With No Job Experience: {round(no_job_exp, 3)}\")"
   ]
  },
  {
   "cell_type": "markdown",
   "metadata": {},
   "source": [
    "From the above results, we could see that applicants with Job experience have a higher chance of visa approval than those without. "
   ]
  },
  {
   "cell_type": "markdown",
   "metadata": {},
   "source": [
    "#### Employees Education "
   ]
  },
  {
   "cell_type": "code",
   "execution_count": 30,
   "metadata": {
    "execution": {
     "iopub.execute_input": "2022-04-14T16:26:01.676956Z",
     "iopub.status.busy": "2022-04-14T16:26:01.676290Z",
     "iopub.status.idle": "2022-04-14T16:26:01.686984Z",
     "shell.execute_reply": "2022-04-14T16:26:01.685782Z",
     "shell.execute_reply.started": "2022-04-14T16:26:01.676911Z"
    }
   },
   "outputs": [
    {
     "data": {
      "text/plain": [
       "array([\"Master's\", 'Doctorate', \"Bachelor's\", 'High School'], dtype=object)"
      ]
     },
     "execution_count": 30,
     "metadata": {},
     "output_type": "execute_result"
    }
   ],
   "source": [
    "df_train_full['education_of_employee'].unique()"
   ]
  },
  {
   "cell_type": "code",
   "execution_count": 31,
   "metadata": {
    "execution": {
     "iopub.execute_input": "2022-04-14T16:26:01.689344Z",
     "iopub.status.busy": "2022-04-14T16:26:01.688976Z",
     "iopub.status.idle": "2022-04-14T16:26:01.717794Z",
     "shell.execute_reply": "2022-04-14T16:26:01.716808Z",
     "shell.execute_reply.started": "2022-04-14T16:26:01.689271Z"
    }
   },
   "outputs": [
    {
     "name": "stdout",
     "output_type": "stream",
     "text": [
      "Approval Rate For Applicants With Masters Degree: 0.79\n",
      "Approval Rate For Applicants With Doctorates Degree: 0.87\n",
      "Approval Rate For Applicants With Bachelors Degree: 0.62\n",
      "Approval Rate For Applicants With High School Degree: 0.34\n"
     ]
    }
   ],
   "source": [
    "masters = df_train_full[df_train_full.education_of_employee == \"Master's\"].case_status.mean()\n",
    "print(f\"Approval Rate For Applicants With Masters Degree: {round(masters, 2)}\")\n",
    "\n",
    "doctorates = df_train_full[df_train_full.education_of_employee == \"Doctorate\"].case_status.mean()\n",
    "print(f\"Approval Rate For Applicants With Doctorates Degree: {round(doctorates, 2)}\")\n",
    "\n",
    "bachelors = df_train_full[df_train_full.education_of_employee == \"Bachelor's\"].case_status.mean()\n",
    "print(f\"Approval Rate For Applicants With Bachelors Degree: {round(bachelors, 2)}\")\n",
    "\n",
    "high_school = df_train_full[df_train_full.education_of_employee == \"High School\"].case_status.mean()\n",
    "print(f\"Approval Rate For Applicants With High School Degree: {round(high_school, 2)}\")"
   ]
  },
  {
   "cell_type": "markdown",
   "metadata": {},
   "source": [
    "#### Continent "
   ]
  },
  {
   "cell_type": "code",
   "execution_count": 32,
   "metadata": {
    "execution": {
     "iopub.execute_input": "2022-04-14T16:26:01.720089Z",
     "iopub.status.busy": "2022-04-14T16:26:01.719438Z",
     "iopub.status.idle": "2022-04-14T16:26:01.730570Z",
     "shell.execute_reply": "2022-04-14T16:26:01.729168Z",
     "shell.execute_reply.started": "2022-04-14T16:26:01.720044Z"
    }
   },
   "outputs": [
    {
     "data": {
      "text/plain": [
       "array(['Asia', 'Europe', 'North America', 'South America', 'Africa',\n",
       "       'Oceania'], dtype=object)"
      ]
     },
     "execution_count": 32,
     "metadata": {},
     "output_type": "execute_result"
    }
   ],
   "source": [
    "df_train_full['continent'].unique()"
   ]
  },
  {
   "cell_type": "code",
   "execution_count": 33,
   "metadata": {
    "execution": {
     "iopub.execute_input": "2022-04-14T16:26:01.733771Z",
     "iopub.status.busy": "2022-04-14T16:26:01.732603Z",
     "iopub.status.idle": "2022-04-14T16:26:01.771985Z",
     "shell.execute_reply": "2022-04-14T16:26:01.770834Z",
     "shell.execute_reply.started": "2022-04-14T16:26:01.733727Z"
    }
   },
   "outputs": [
    {
     "name": "stdout",
     "output_type": "stream",
     "text": [
      "Approval Rate For Applicants From Asia: 0.65\n",
      "Approval Rate For Applicants From 'Europe': 0.79\n",
      "Approval Rate For Applicants From 'North America': 0.62\n",
      "Approval Rate For Applicants From 'South America': 0.56\n",
      "Approval Rate For Applicants From 'Africa': 0.73\n",
      "Approval Rate For Applicants From 'Oceania': 0.65\n"
     ]
    }
   ],
   "source": [
    "asia = df_train_full[df_train_full.continent == 'Asia'].case_status.mean()\n",
    "print(f\"Approval Rate For Applicants From Asia: {round(asia, 2)}\")\n",
    "\n",
    "europe = df_train_full[df_train_full.continent == 'Europe'].case_status.mean()\n",
    "print(f\"Approval Rate For Applicants From 'Europe': {round(europe, 2)}\")\n",
    "\n",
    "north_america = df_train_full[df_train_full.continent == 'North America'].case_status.mean()\n",
    "print(f\"Approval Rate For Applicants From 'North America': {round(north_america, 2)}\")\n",
    "\n",
    "south_america = df_train_full[df_train_full.continent == 'South America'].case_status.mean()\n",
    "print(f\"Approval Rate For Applicants From 'South America': {round(south_america, 2)}\")\n",
    "\n",
    "africa = df_train_full[df_train_full.continent == 'Africa'].case_status.mean()\n",
    "print(f\"Approval Rate For Applicants From 'Africa': {round(africa, 2)}\")\n",
    "\n",
    "oceania = df_train_full[df_train_full.continent == 'Oceania'].case_status.mean()\n",
    "print(f\"Approval Rate For Applicants From 'Oceania': {round(oceania, 2)}\")"
   ]
  },
  {
   "cell_type": "markdown",
   "metadata": {},
   "source": [
    "#### Region of Employment "
   ]
  },
  {
   "cell_type": "code",
   "execution_count": 34,
   "metadata": {
    "execution": {
     "iopub.execute_input": "2022-04-14T16:26:01.775328Z",
     "iopub.status.busy": "2022-04-14T16:26:01.774885Z",
     "iopub.status.idle": "2022-04-14T16:26:01.787070Z",
     "shell.execute_reply": "2022-04-14T16:26:01.786061Z",
     "shell.execute_reply.started": "2022-04-14T16:26:01.775262Z"
    }
   },
   "outputs": [
    {
     "data": {
      "text/plain": [
       "array(['West', 'Midwest', 'Northeast', 'South', 'Island'], dtype=object)"
      ]
     },
     "execution_count": 34,
     "metadata": {},
     "output_type": "execute_result"
    }
   ],
   "source": [
    "df_train_full['region_of_employment'].unique()"
   ]
  },
  {
   "cell_type": "code",
   "execution_count": 35,
   "metadata": {
    "execution": {
     "iopub.execute_input": "2022-04-14T16:26:01.790453Z",
     "iopub.status.busy": "2022-04-14T16:26:01.789759Z",
     "iopub.status.idle": "2022-04-14T16:26:01.823316Z",
     "shell.execute_reply": "2022-04-14T16:26:01.822458Z",
     "shell.execute_reply.started": "2022-04-14T16:26:01.790408Z"
    }
   },
   "outputs": [
    {
     "name": "stdout",
     "output_type": "stream",
     "text": [
      "Approval Rate For Applicant from West: 0.63\n",
      "Approval Rate For Applicant from 'Midwest': 0.63\n",
      "Approval Rate For Applicant from 'Northeast': 0.63\n",
      "Approval Rate For Applicant from 'South': 0.7\n",
      "Approval Rate For Applicant from 'Island': 0.59\n"
     ]
    }
   ],
   "source": [
    "west = df_train_full[df_train_full.region_of_employment == 'West'].case_status.mean()\n",
    "print(f\"Approval Rate For Applicant from West: {round(west, 2)}\")\n",
    "\n",
    "mid_west = df_train_full[df_train_full.region_of_employment == 'Midwest'].case_status.mean()\n",
    "print(f\"Approval Rate For Applicant from 'Midwest': {round(west, 2)}\")\n",
    "\n",
    "north_east = df_train_full[df_train_full.region_of_employment == 'Northeast'].case_status.mean()\n",
    "print(f\"Approval Rate For Applicant from 'Northeast': {round(north_east, 2)}\")\n",
    "\n",
    "south = df_train_full[df_train_full.region_of_employment == 'South'].case_status.mean()\n",
    "print(f\"Approval Rate For Applicant from 'South': {round(south, 2)}\")\n",
    "\n",
    "island = df_train_full[df_train_full.region_of_employment == 'Island'].case_status.mean()\n",
    "print(f\"Approval Rate For Applicant from 'Island': {round(island, 2)}\")\n",
    "\n"
   ]
  },
  {
   "cell_type": "markdown",
   "metadata": {},
   "source": [
    "#### Unit Wage "
   ]
  },
  {
   "cell_type": "code",
   "execution_count": 36,
   "metadata": {
    "execution": {
     "iopub.execute_input": "2022-04-14T16:26:01.825347Z",
     "iopub.status.busy": "2022-04-14T16:26:01.825054Z",
     "iopub.status.idle": "2022-04-14T16:26:01.834315Z",
     "shell.execute_reply": "2022-04-14T16:26:01.833004Z",
     "shell.execute_reply.started": "2022-04-14T16:26:01.825307Z"
    }
   },
   "outputs": [
    {
     "data": {
      "text/plain": [
       "array(['Year', 'Hour', 'Week', 'Month'], dtype=object)"
      ]
     },
     "execution_count": 36,
     "metadata": {},
     "output_type": "execute_result"
    }
   ],
   "source": [
    "df_train_full['unit_of_wage'].unique()"
   ]
  },
  {
   "cell_type": "code",
   "execution_count": 37,
   "metadata": {
    "execution": {
     "iopub.execute_input": "2022-04-14T16:26:01.841345Z",
     "iopub.status.busy": "2022-04-14T16:26:01.840837Z",
     "iopub.status.idle": "2022-04-14T16:26:01.870334Z",
     "shell.execute_reply": "2022-04-14T16:26:01.869343Z",
     "shell.execute_reply.started": "2022-04-14T16:26:01.841298Z"
    }
   },
   "outputs": [
    {
     "name": "stdout",
     "output_type": "stream",
     "text": [
      "Approval Rate For Applicant from Year: 0.7\n",
      "Approval Rate For Applicant from Hour: 0.34\n",
      "Approval Rate For Applicant from Week: 0.61\n",
      "Approval Rate For Applicant from Month: 0.66\n"
     ]
    }
   ],
   "source": [
    "year = df_train_full[df_train_full.unit_of_wage == 'Year'].case_status.mean()\n",
    "print(f'Approval Rate For Applicant from Year: {round(year, 2)}')\n",
    "\n",
    "hour = df_train_full[df_train_full.unit_of_wage == 'Hour'].case_status.mean()\n",
    "print(f'Approval Rate For Applicant from Hour: {round(hour, 2)}')\n",
    "\n",
    "week = df_train_full[df_train_full.unit_of_wage == 'Week'].case_status.mean()\n",
    "print(f'Approval Rate For Applicant from Week: {round(week, 2)}')\n",
    "\n",
    "month = df_train_full[df_train_full.unit_of_wage == 'Month'].case_status.mean()\n",
    "print(f'Approval Rate For Applicant from Month: {round(month, 2)}')"
   ]
  },
  {
   "cell_type": "markdown",
   "metadata": {},
   "source": [
    "#### Full time Position\n"
   ]
  },
  {
   "cell_type": "code",
   "execution_count": 38,
   "metadata": {
    "execution": {
     "iopub.execute_input": "2022-04-14T16:26:01.872615Z",
     "iopub.status.busy": "2022-04-14T16:26:01.871851Z",
     "iopub.status.idle": "2022-04-14T16:26:01.882471Z",
     "shell.execute_reply": "2022-04-14T16:26:01.881214Z",
     "shell.execute_reply.started": "2022-04-14T16:26:01.872572Z"
    }
   },
   "outputs": [
    {
     "data": {
      "text/plain": [
       "array(['Y', 'N'], dtype=object)"
      ]
     },
     "execution_count": 38,
     "metadata": {},
     "output_type": "execute_result"
    }
   ],
   "source": [
    "df_train_full['full_time_position'].unique()"
   ]
  },
  {
   "cell_type": "code",
   "execution_count": 39,
   "metadata": {
    "execution": {
     "iopub.execute_input": "2022-04-14T16:26:01.885151Z",
     "iopub.status.busy": "2022-04-14T16:26:01.884480Z",
     "iopub.status.idle": "2022-04-14T16:26:01.904857Z",
     "shell.execute_reply": "2022-04-14T16:26:01.903630Z",
     "shell.execute_reply.started": "2022-04-14T16:26:01.885090Z"
    }
   },
   "outputs": [
    {
     "name": "stdout",
     "output_type": "stream",
     "text": [
      "Approval Rate For Applicant With Full Time Position: 0.66\n",
      "Approval Rate For Applicant from With No Full Time Position: 0.69\n"
     ]
    }
   ],
   "source": [
    "yes = df_train_full[df_train_full.full_time_position == 'Y'].case_status.mean()\n",
    "print(f'Approval Rate For Applicant With Full Time Position: {round(yes, 2)}')\n",
    "\n",
    "no = df_train_full[df_train_full.full_time_position == 'N'].case_status.mean()\n",
    "print(f'Approval Rate For Applicant from With No Full Time Position: {round(no, 2)}')"
   ]
  },
  {
   "cell_type": "markdown",
   "metadata": {},
   "source": [
    "### Mutual Information \n",
    "- Lets quantify the degree of dependency between two categorical variables"
   ]
  },
  {
   "cell_type": "code",
   "execution_count": 40,
   "metadata": {
    "execution": {
     "iopub.execute_input": "2022-04-14T16:26:01.907022Z",
     "iopub.status.busy": "2022-04-14T16:26:01.906598Z",
     "iopub.status.idle": "2022-04-14T16:26:02.165200Z",
     "shell.execute_reply": "2022-04-14T16:26:02.164269Z",
     "shell.execute_reply.started": "2022-04-14T16:26:01.906977Z"
    }
   },
   "outputs": [
    {
     "data": {
      "text/html": [
       "<div>\n",
       "<style scoped>\n",
       "    .dataframe tbody tr th:only-of-type {\n",
       "        vertical-align: middle;\n",
       "    }\n",
       "\n",
       "    .dataframe tbody tr th {\n",
       "        vertical-align: top;\n",
       "    }\n",
       "\n",
       "    .dataframe thead th {\n",
       "        text-align: right;\n",
       "    }\n",
       "</style>\n",
       "<table border=\"1\" class=\"dataframe\">\n",
       "  <thead>\n",
       "    <tr style=\"text-align: right;\">\n",
       "      <th></th>\n",
       "      <th>MI</th>\n",
       "    </tr>\n",
       "  </thead>\n",
       "  <tbody>\n",
       "    <tr>\n",
       "      <th>education_of_employee</th>\n",
       "      <td>0.055306</td>\n",
       "    </tr>\n",
       "    <tr>\n",
       "      <th>unit_of_wage</th>\n",
       "      <td>0.021406</td>\n",
       "    </tr>\n",
       "    <tr>\n",
       "      <th>has_job_experience</th>\n",
       "      <td>0.017806</td>\n",
       "    </tr>\n",
       "    <tr>\n",
       "      <th>continent</th>\n",
       "      <td>0.007643</td>\n",
       "    </tr>\n",
       "    <tr>\n",
       "      <th>region_of_employment</th>\n",
       "      <td>0.005861</td>\n",
       "    </tr>\n",
       "  </tbody>\n",
       "</table>\n",
       "</div>"
      ],
      "text/plain": [
       "                             MI\n",
       "education_of_employee  0.055306\n",
       "unit_of_wage           0.021406\n",
       "has_job_experience     0.017806\n",
       "continent              0.007643\n",
       "region_of_employment   0.005861"
      ]
     },
     "metadata": {},
     "output_type": "display_data"
    }
   ],
   "source": [
    "from sklearn.metrics import mutual_info_score\n",
    "from IPython.display import display\n",
    "\n",
    "def calculate_mi(series):\n",
    "    return mutual_info_score(series, df_train_full.case_status)\n",
    "\n",
    "df_mi = df_train_full[categorical_var].apply(calculate_mi)\n",
    "df_mi = df_mi.sort_values(ascending=False).to_frame(name='MI')\n",
    "\n",
    "display(df_mi.head())"
   ]
  },
  {
   "cell_type": "markdown",
   "metadata": {},
   "source": [
    "### Correlation Coefficient \n",
    "We use correlation coefficient to measure the binary target variable and a numerical variable. \n",
    "- A positive correlation means that when one variable goes up, the other variable tends to go up as well\n",
    "- Negative correlation occurs when one variable goes up and the other goes down. \n",
    "- Zero correlatin means no relationship b/n two variables "
   ]
  },
  {
   "cell_type": "code",
   "execution_count": 41,
   "metadata": {
    "execution": {
     "iopub.execute_input": "2022-04-14T16:26:02.167473Z",
     "iopub.status.busy": "2022-04-14T16:26:02.167110Z",
     "iopub.status.idle": "2022-04-14T16:26:02.185402Z",
     "shell.execute_reply": "2022-04-14T16:26:02.184327Z",
     "shell.execute_reply.started": "2022-04-14T16:26:02.167426Z"
    }
   },
   "outputs": [
    {
     "data": {
      "text/html": [
       "<div>\n",
       "<style scoped>\n",
       "    .dataframe tbody tr th:only-of-type {\n",
       "        vertical-align: middle;\n",
       "    }\n",
       "\n",
       "    .dataframe tbody tr th {\n",
       "        vertical-align: top;\n",
       "    }\n",
       "\n",
       "    .dataframe thead th {\n",
       "        text-align: right;\n",
       "    }\n",
       "</style>\n",
       "<table border=\"1\" class=\"dataframe\">\n",
       "  <thead>\n",
       "    <tr style=\"text-align: right;\">\n",
       "      <th></th>\n",
       "      <th>correlation</th>\n",
       "    </tr>\n",
       "  </thead>\n",
       "  <tbody>\n",
       "    <tr>\n",
       "      <th>no_of_employees</th>\n",
       "      <td>0.008502</td>\n",
       "    </tr>\n",
       "    <tr>\n",
       "      <th>yr_of_estab</th>\n",
       "      <td>0.009273</td>\n",
       "    </tr>\n",
       "    <tr>\n",
       "      <th>prevailing_wage</th>\n",
       "      <td>0.079406</td>\n",
       "    </tr>\n",
       "  </tbody>\n",
       "</table>\n",
       "</div>"
      ],
      "text/plain": [
       "                 correlation\n",
       "no_of_employees     0.008502\n",
       "yr_of_estab         0.009273\n",
       "prevailing_wage     0.079406"
      ]
     },
     "execution_count": 41,
     "metadata": {},
     "output_type": "execute_result"
    }
   ],
   "source": [
    "df_train_full[numerical_var].corrwith(df_train_full.case_status).to_frame('correlation')\n"
   ]
  },
  {
   "cell_type": "markdown",
   "metadata": {},
   "source": [
    "### Multivariate analysis on the combined dataframe"
   ]
  },
  {
   "cell_type": "code",
   "execution_count": 42,
   "metadata": {
    "execution": {
     "iopub.execute_input": "2022-04-14T16:26:02.187893Z",
     "iopub.status.busy": "2022-04-14T16:26:02.186781Z",
     "iopub.status.idle": "2022-04-14T16:26:02.523632Z",
     "shell.execute_reply": "2022-04-14T16:26:02.522570Z",
     "shell.execute_reply.started": "2022-04-14T16:26:02.187846Z"
    }
   },
   "outputs": [
    {
     "data": {
      "text/plain": [
       "Text(0.5, 0.98, '')"
      ]
     },
     "execution_count": 42,
     "metadata": {},
     "output_type": "execute_result"
    },
    {
     "data": {
      "image/png": "[encoded data removed]",
      "text/plain": [
       "<Figure size 1008x576 with 2 Axes>"
      ]
     },
     "metadata": {},
     "output_type": "display_data"
    }
   ],
   "source": [
    "fig, (ax) = plt.subplots(1, 1, figsize=(14,8))\n",
    "\n",
    "hm = sns.heatmap(df.corr(),\n",
    "ax=ax,\n",
    "cmap=\"bwr\",\n",
    "annot=True,\n",
    "fmt='.2f',\n",
    "linewidths=.05)\n",
    "\n",
    "fig.subplots_adjust(top=0.93)\n",
    "fig.suptitle('', fontsize=14, fontweight='bold')"
   ]
  },
  {
   "cell_type": "markdown",
   "metadata": {
    "id": "difficult-union"
   },
   "source": [
    "## EDA\n",
    "\n",
    "- It is a good idea to explore the data once again after manipulating it."
   ]
  },
  {
   "cell_type": "markdown",
   "metadata": {},
   "source": [
    "### Feature Engineering \n",
    "We are going to use one-hot encoding to convert all categorical variables to numerical variable for training. \n",
    "- lets encode our categorical variables in the our dataframe\n",
    "- Implement our DictVectorizer"
   ]
  },
  {
   "cell_type": "code",
   "execution_count": 43,
   "metadata": {
    "execution": {
     "iopub.execute_input": "2022-04-14T16:26:02.528337Z",
     "iopub.status.busy": "2022-04-14T16:26:02.528034Z",
     "iopub.status.idle": "2022-04-14T16:26:02.538368Z",
     "shell.execute_reply": "2022-04-14T16:26:02.536500Z",
     "shell.execute_reply.started": "2022-04-14T16:26:02.528306Z"
    }
   },
   "outputs": [],
   "source": [
    "df_train = df_train[categorical_var + numerical_var]"
   ]
  },
  {
   "cell_type": "code",
   "execution_count": 44,
   "metadata": {
    "execution": {
     "iopub.execute_input": "2022-04-14T16:26:02.542408Z",
     "iopub.status.busy": "2022-04-14T16:26:02.539801Z",
     "iopub.status.idle": "2022-04-14T16:26:02.800346Z",
     "shell.execute_reply": "2022-04-14T16:26:02.799308Z",
     "shell.execute_reply.started": "2022-04-14T16:26:02.542372Z"
    }
   },
   "outputs": [],
   "source": [
    "## lets convert our training data into a dictionary format \n",
    "train_dict = df_train.to_dict(orient=\"records\")\n",
    "valid_dict = df_valid.to_dict(orient=\"records\")"
   ]
  },
  {
   "cell_type": "markdown",
   "metadata": {},
   "source": [
    "#### One-hot encoding for categorical variables "
   ]
  },
  {
   "cell_type": "code",
   "execution_count": 45,
   "metadata": {
    "execution": {
     "iopub.execute_input": "2022-04-14T16:26:02.802452Z",
     "iopub.status.busy": "2022-04-14T16:26:02.802089Z",
     "iopub.status.idle": "2022-04-14T16:26:03.137212Z",
     "shell.execute_reply": "2022-04-14T16:26:03.136253Z",
     "shell.execute_reply.started": "2022-04-14T16:26:02.802408Z"
    }
   },
   "outputs": [],
   "source": [
    "from sklearn.feature_extraction import DictVectorizer\n",
    "\n",
    "dict_vec = DictVectorizer(sparse=False)\n",
    "\n",
    "X_train = dict_vec.fit_transform(train_dict)\n",
    "X_valid = dict_vec.transform(valid_dict)"
   ]
  },
  {
   "cell_type": "markdown",
   "metadata": {
    "id": "domestic-iceland"
   },
   "source": [
    "## Building bagging and boosting models"
   ]
  },
  {
   "cell_type": "markdown",
   "metadata": {
    "id": "unknown-institution"
   },
   "source": [
    "### Bagging Classifier "
   ]
  },
  {
   "cell_type": "code",
   "execution_count": 46,
   "metadata": {
    "execution": {
     "iopub.execute_input": "2022-04-14T16:26:03.139380Z",
     "iopub.status.busy": "2022-04-14T16:26:03.139045Z",
     "iopub.status.idle": "2022-04-14T16:26:03.314460Z",
     "shell.execute_reply": "2022-04-14T16:26:03.313500Z",
     "shell.execute_reply.started": "2022-04-14T16:26:03.139336Z"
    }
   },
   "outputs": [],
   "source": [
    "from sklearn.ensemble import BaggingClassifier\n",
    "from sklearn.tree import DecisionTreeClassifier\n",
    "\n",
    "tree = DecisionTreeClassifier(criterion='entropy', random_state=1)\n",
    "\n",
    "\n",
    "bag_model = BaggingClassifier(base_estimator=tree, \n",
    "                             n_estimators=500, \n",
    "                             max_samples=1.0,\n",
    "                             max_features=1.0,\n",
    "                             bootstrap=True,\n",
    "                             bootstrap_features=False,\n",
    "                             n_jobs=1,\n",
    "                             random_state=1)"
   ]
  },
  {
   "cell_type": "code",
   "execution_count": 47,
   "metadata": {
    "execution": {
     "iopub.execute_input": "2022-04-14T16:26:03.316929Z",
     "iopub.status.busy": "2022-04-14T16:26:03.316018Z",
     "iopub.status.idle": "2022-04-14T16:26:45.560491Z",
     "shell.execute_reply": "2022-04-14T16:26:45.558340Z",
     "shell.execute_reply.started": "2022-04-14T16:26:03.316880Z"
    }
   },
   "outputs": [
    {
     "data": {
      "text/plain": [
       "BaggingClassifier(base_estimator=DecisionTreeClassifier(criterion='entropy',\n",
       "                                                        random_state=1),\n",
       "                  n_estimators=500, n_jobs=1, random_state=1)"
      ]
     },
     "execution_count": 47,
     "metadata": {},
     "output_type": "execute_result"
    }
   ],
   "source": [
    "bag_model.fit(X_train, y_train)"
   ]
  },
  {
   "cell_type": "code",
   "execution_count": 48,
   "metadata": {
    "execution": {
     "iopub.execute_input": "2022-04-14T16:26:45.562756Z",
     "iopub.status.busy": "2022-04-14T16:26:45.562422Z",
     "iopub.status.idle": "2022-04-14T16:26:48.168699Z",
     "shell.execute_reply": "2022-04-14T16:26:48.167760Z",
     "shell.execute_reply.started": "2022-04-14T16:26:45.562686Z"
    }
   },
   "outputs": [],
   "source": [
    "## lets create our training predictions\n",
    "y_pred_train = bag_model.predict_proba(X_train)[:,1]"
   ]
  },
  {
   "cell_type": "code",
   "execution_count": 49,
   "metadata": {
    "execution": {
     "iopub.execute_input": "2022-04-14T16:26:48.170646Z",
     "iopub.status.busy": "2022-04-14T16:26:48.170355Z",
     "iopub.status.idle": "2022-04-14T16:26:48.187142Z",
     "shell.execute_reply": "2022-04-14T16:26:48.186026Z",
     "shell.execute_reply.started": "2022-04-14T16:26:48.170603Z"
    }
   },
   "outputs": [
    {
     "name": "stdout",
     "output_type": "stream",
     "text": [
      "Training Accuracy: 1.0\n"
     ]
    }
   ],
   "source": [
    "## lets measure the accuracy of our train prediciton \n",
    "from sklearn.metrics import roc_auc_score\n",
    "\n",
    "train_auc_score = roc_auc_score(y_train, y_pred_train)\n",
    "print(f\"Training Accuracy: {round(train_auc_score,3)}\")"
   ]
  },
  {
   "cell_type": "code",
   "execution_count": 50,
   "metadata": {
    "execution": {
     "iopub.execute_input": "2022-04-14T16:26:48.191949Z",
     "iopub.status.busy": "2022-04-14T16:26:48.191091Z",
     "iopub.status.idle": "2022-04-14T16:26:49.321994Z",
     "shell.execute_reply": "2022-04-14T16:26:49.320840Z",
     "shell.execute_reply.started": "2022-04-14T16:26:48.191882Z"
    }
   },
   "outputs": [],
   "source": [
    "## lets create the predictions\n",
    "y_pred_valid = bag_model.predict_proba(X_valid)[:,1]"
   ]
  },
  {
   "cell_type": "code",
   "execution_count": 51,
   "metadata": {
    "execution": {
     "iopub.execute_input": "2022-04-14T16:26:49.324349Z",
     "iopub.status.busy": "2022-04-14T16:26:49.323690Z",
     "iopub.status.idle": "2022-04-14T16:26:49.339444Z",
     "shell.execute_reply": "2022-04-14T16:26:49.338463Z",
     "shell.execute_reply.started": "2022-04-14T16:26:49.324303Z"
    }
   },
   "outputs": [
    {
     "name": "stdout",
     "output_type": "stream",
     "text": [
      "Validation Accuracy: 0.755\n"
     ]
    }
   ],
   "source": [
    "from sklearn.metrics import roc_auc_score\n",
    "\n",
    "valid_auc_score = roc_auc_score(y_valid, y_pred_valid)\n",
    "\n",
    "print(f\"Validation Accuracy: {round(valid_auc_score,3)}\")"
   ]
  },
  {
   "cell_type": "markdown",
   "metadata": {},
   "source": [
    "##  Will tuning the hyperparameters improve the model performance?"
   ]
  },
  {
   "cell_type": "markdown",
   "metadata": {},
   "source": [
    "### Parameter Tuning For Bagging Model \n",
    "Parameter tuning involves finding the best parameters of the model. <br>\n",
    "This usually consist of chaning the model and checking its score on the validation dataset.          "
   ]
  },
  {
   "cell_type": "code",
   "execution_count": 52,
   "metadata": {
    "execution": {
     "iopub.execute_input": "2022-04-14T16:26:49.350752Z",
     "iopub.status.busy": "2022-04-14T16:26:49.348370Z",
     "iopub.status.idle": "2022-04-14T16:29:51.835621Z",
     "shell.execute_reply": "2022-04-14T16:29:51.834657Z",
     "shell.execute_reply.started": "2022-04-14T16:26:49.350710Z"
    }
   },
   "outputs": [
    {
     "name": "stdout",
     "output_type": "stream",
     "text": [
      "1 -> 0.599\n",
      "2 -> 0.742\n",
      "3 -> 0.748\n",
      "4 -> 0.762\n",
      "5 -> 0.777\n",
      "6 -> 0.781\n",
      "10 -> 0.782\n",
      "15 -> 0.772\n",
      "20 -> 0.762\n",
      "None -> 0.754\n"
     ]
    }
   ],
   "source": [
    "## lets tune the max_depth parameter with a few reasonable value\n",
    "for depth in [1, 2, 3, 4, 5, 6, 10, 15, 20, None]:\n",
    "    tree = DecisionTreeClassifier(max_depth=depth)\n",
    "    bag_model = BaggingClassifier(base_estimator=tree, \n",
    "                             n_estimators=500, \n",
    "                             max_samples=1.0,\n",
    "                             max_features=1.0,\n",
    "                             bootstrap=True,\n",
    "                             bootstrap_features=False,\n",
    "                             n_jobs=1,\n",
    "                             random_state=1)\n",
    "    bag_model.fit(X_train, y_train)\n",
    "    y_pred_valid =bag_model.predict_proba(X_valid)[:, 1]\n",
    "    valid_auc_score = roc_auc_score(y_valid, y_pred_valid)\n",
    "    print(f\"{depth} -> {round(valid_auc_score, 3)}\")\n",
    "    #print(f\"{depth} -> {valid_auc_score}\")"
   ]
  },
  {
   "cell_type": "code",
   "execution_count": 53,
   "metadata": {
    "execution": {
     "iopub.execute_input": "2022-04-14T16:29:51.837835Z",
     "iopub.status.busy": "2022-04-14T16:29:51.837413Z",
     "iopub.status.idle": "2022-04-14T16:35:50.675948Z",
     "shell.execute_reply": "2022-04-14T16:35:50.674131Z",
     "shell.execute_reply.started": "2022-04-14T16:29:51.837794Z"
    }
   },
   "outputs": [
    {
     "name": "stdout",
     "output_type": "stream",
     "text": [
      "3 -> 1 -> 0.748\n",
      "3 -> 5 -> 0.748\n",
      "3 -> 10 -> 0.748\n",
      "3 -> 15 -> 0.748\n",
      "3 -> 20 -> 0.748\n",
      "3 -> 100 -> 0.748\n",
      "3 -> 200 -> 0.748\n",
      "4 -> 1 -> 0.762\n",
      "4 -> 5 -> 0.762\n",
      "4 -> 10 -> 0.762\n",
      "4 -> 15 -> 0.762\n",
      "4 -> 20 -> 0.762\n",
      "4 -> 100 -> 0.762\n",
      "4 -> 200 -> 0.762\n",
      "5 -> 1 -> 0.777\n",
      "5 -> 5 -> 0.777\n",
      "5 -> 10 -> 0.777\n",
      "5 -> 15 -> 0.777\n",
      "5 -> 20 -> 0.777\n",
      "5 -> 100 -> 0.777\n",
      "5 -> 200 -> 0.777\n",
      "6 -> 1 -> 0.781\n",
      "6 -> 5 -> 0.781\n",
      "6 -> 10 -> 0.781\n",
      "6 -> 15 -> 0.781\n",
      "6 -> 20 -> 0.781\n",
      "6 -> 100 -> 0.781\n",
      "6 -> 200 -> 0.781\n"
     ]
    }
   ],
   "source": [
    "## let's tune the min_leaf_size parameter \n",
    "for depth in [3, 4, 5, 6]:\n",
    "    for leaf in [1, 5, 10, 15, 20, 100, 200]:\n",
    "        tree = DecisionTreeClassifier(max_depth=depth)\n",
    "        bag_model = BaggingClassifier(base_estimator=tree, \n",
    "                             n_estimators=500, \n",
    "                             max_samples=1.0,\n",
    "                             max_features=1.0,\n",
    "                             bootstrap=True,\n",
    "                             bootstrap_features=False,\n",
    "                             n_jobs=1,\n",
    "                             random_state=1)\n",
    "        bag_model.fit(X_train, y_train)\n",
    "        y_pred_valid = bag_model.predict_proba(X_valid)[:, 1]\n",
    "        valid_auc_score = roc_auc_score(y_valid, y_pred_valid)\n",
    "        print(f\"{depth} -> {leaf} -> {round(valid_auc_score, 3)}\")"
   ]
  },
  {
   "cell_type": "markdown",
   "metadata": {},
   "source": [
    "## "
   ]
  },
  {
   "cell_type": "markdown",
   "metadata": {},
   "source": [
    "### Gradient boosting \n",
    "Gradient boosting train models squentially, where each next model tries to fix errors from the previous one:\n",
    "- Train the first model\n",
    "- Look at the errors it makes \n",
    "- Train another model that fixes these errors\n",
    "- Look at the errors again, repeat sequentially. \n",
    "\n",
    "#### XGBoost: Extreme gradient boosting \n",
    "Before we can train an XGBoost model, we need to wrap our data into DMatrix — a\n",
    "special data structure for finding splits efficiently.\n",
    "When creating an instance of DMatrix, we pass three parameters:\n",
    "- X_train: the feature matrix\n",
    "- y_train: the target variable\n",
    "- feature_names: the names of features in X_train"
   ]
  },
  {
   "cell_type": "code",
   "execution_count": 54,
   "metadata": {
    "execution": {
     "iopub.execute_input": "2022-04-14T16:35:50.678177Z",
     "iopub.status.busy": "2022-04-14T16:35:50.677597Z",
     "iopub.status.idle": "2022-04-14T16:35:50.767582Z",
     "shell.execute_reply": "2022-04-14T16:35:50.766650Z",
     "shell.execute_reply.started": "2022-04-14T16:35:50.678130Z"
    }
   },
   "outputs": [],
   "source": [
    "## lets implement xgboost \n",
    "import xgboost as xgb "
   ]
  },
  {
   "cell_type": "code",
   "execution_count": 55,
   "metadata": {
    "execution": {
     "iopub.execute_input": "2022-04-14T16:35:50.771786Z",
     "iopub.status.busy": "2022-04-14T16:35:50.770912Z",
     "iopub.status.idle": "2022-04-14T16:35:54.151820Z",
     "shell.execute_reply": "2022-04-14T16:35:54.150778Z",
     "shell.execute_reply.started": "2022-04-14T16:35:50.771702Z"
    }
   },
   "outputs": [],
   "source": [
    "## lets convert our training data into DMatrix form\n",
    "dtrain = xgb.DMatrix(X_train, label=y_train, feature_names=dict_vec.feature_names_)\n",
    "\n",
    "## lets convert our validation data into DMatrix form\n",
    "dvalid = xgb.DMatrix(X_valid, label=y_valid, feature_names=dict_vec.feature_names_)"
   ]
  },
  {
   "cell_type": "code",
   "execution_count": 56,
   "metadata": {
    "execution": {
     "iopub.execute_input": "2022-04-14T16:35:54.154129Z",
     "iopub.status.busy": "2022-04-14T16:35:54.153673Z",
     "iopub.status.idle": "2022-04-14T16:35:54.162470Z",
     "shell.execute_reply": "2022-04-14T16:35:54.161450Z",
     "shell.execute_reply.started": "2022-04-14T16:35:54.154071Z"
    }
   },
   "outputs": [],
   "source": [
    "## lets specify the parameters for training \n",
    "## lets specify the parameters for training \n",
    "xgb_params = {\n",
    "    'eta':0.3,\n",
    "    'max_depth': 6,\n",
    "    'min_child_weigh': 1,\n",
    "    \n",
    "    'objective': 'binary:logistic',\n",
    "    'nthread': 8, \n",
    "    'seed': 1,\n",
    "    'silent': 1\n",
    "}"
   ]
  },
  {
   "cell_type": "code",
   "execution_count": 57,
   "metadata": {
    "execution": {
     "iopub.execute_input": "2022-04-14T16:35:54.165931Z",
     "iopub.status.busy": "2022-04-14T16:35:54.165592Z",
     "iopub.status.idle": "2022-04-14T16:35:54.470666Z",
     "shell.execute_reply": "2022-04-14T16:35:54.469695Z",
     "shell.execute_reply.started": "2022-04-14T16:35:54.165902Z"
    }
   },
   "outputs": [
    {
     "name": "stdout",
     "output_type": "stream",
     "text": [
      "[18:53:51] WARNING: ../src/learner.cc:576: \n",
      "Parameters: { \"min_child_weigh\", \"silent\" } might not be used.\n",
      "\n",
      "  This could be a false alarm, with some parameters getting used by language bindings but\n",
      "  then being mistakenly passed down to XGBoost core, or some parameter actually being used\n",
      "  but getting flagged wrongly here. Please open an issue if you find any such cases.\n",
      "\n",
      "\n",
      "[18:53:51] WARNING: ../src/learner.cc:1115: Starting in XGBoost 1.3.0, the default evaluation metric used with the objective 'binary:logistic' was changed from 'error' to 'logloss'. Explicitly set eval_metric if you'd like to restore the old behavior.\n"
     ]
    }
   ],
   "source": [
    "## lets start our training with 10 tress \n",
    "xgb_model = xgb.train(xgb_params, dtrain, num_boost_round=10)"
   ]
  },
  {
   "cell_type": "code",
   "execution_count": 58,
   "metadata": {
    "execution": {
     "iopub.execute_input": "2022-04-14T16:35:54.473012Z",
     "iopub.status.busy": "2022-04-14T16:35:54.472672Z",
     "iopub.status.idle": "2022-04-14T16:35:54.483045Z",
     "shell.execute_reply": "2022-04-14T16:35:54.481739Z",
     "shell.execute_reply.started": "2022-04-14T16:35:54.472970Z"
    }
   },
   "outputs": [],
   "source": [
    "## lets create our predictions \n",
    "y_pred_valid = xgb_model.predict(dvalid)"
   ]
  },
  {
   "cell_type": "code",
   "execution_count": 59,
   "metadata": {
    "execution": {
     "iopub.execute_input": "2022-04-14T16:35:54.485366Z",
     "iopub.status.busy": "2022-04-14T16:35:54.484694Z",
     "iopub.status.idle": "2022-04-14T16:35:54.498202Z",
     "shell.execute_reply": "2022-04-14T16:35:54.496981Z",
     "shell.execute_reply.started": "2022-04-14T16:35:54.485320Z"
    }
   },
   "outputs": [
    {
     "name": "stdout",
     "output_type": "stream",
     "text": [
      "Validation Accuracy 0.782\n"
     ]
    }
   ],
   "source": [
    "## lets compute the validation accuracy \n",
    "from sklearn.metrics import roc_auc_score\n",
    "valid_auc_score = roc_auc_score(y_valid, y_pred_valid)\n",
    "print(f\"Validation Accuracy {round(valid_auc_score, 3)}\")"
   ]
  },
  {
   "cell_type": "markdown",
   "metadata": {},
   "source": [
    "### Model performance monitoring \n",
    "To get an idea of how AUC changes as the number of trees grows, we can use a watchlist\n",
    "— a built-in feature in XGBoost for monitoring model performance.\n",
    "A watchlist is a Python list with tuples. Each tuple contains a DMatrix and its name"
   ]
  },
  {
   "cell_type": "code",
   "execution_count": 60,
   "metadata": {
    "execution": {
     "iopub.execute_input": "2022-04-14T16:35:54.501654Z",
     "iopub.status.busy": "2022-04-14T16:35:54.501029Z",
     "iopub.status.idle": "2022-04-14T16:35:54.506851Z",
     "shell.execute_reply": "2022-04-14T16:35:54.505640Z",
     "shell.execute_reply.started": "2022-04-14T16:35:54.501612Z"
    }
   },
   "outputs": [],
   "source": [
    "## lets create a watch list \n",
    "watchlist = [(dtrain, 'train'), (dvalid, 'valid')]"
   ]
  },
  {
   "cell_type": "code",
   "execution_count": 61,
   "metadata": {
    "execution": {
     "iopub.execute_input": "2022-04-14T16:35:54.509087Z",
     "iopub.status.busy": "2022-04-14T16:35:54.508639Z",
     "iopub.status.idle": "2022-04-14T16:35:54.518764Z",
     "shell.execute_reply": "2022-04-14T16:35:54.517315Z",
     "shell.execute_reply.started": "2022-04-14T16:35:54.509018Z"
    }
   },
   "outputs": [],
   "source": [
    "## lets create a list of parameters for training \n",
    "xgb_params = {\n",
    "    'eta': 0.3,\n",
    "    'max_depth': 6,\n",
    "    'min_child_weight': 1,\n",
    "    \n",
    "    'objective': 'binary:logistic',\n",
    "    'eval_metric': 'auc',\n",
    "    'nthread': 8,\n",
    "    'seed': 1,\n",
    "    'silent': 1\n",
    "}"
   ]
  },
  {
   "cell_type": "code",
   "execution_count": 62,
   "metadata": {
    "execution": {
     "iopub.execute_input": "2022-04-14T16:35:54.522479Z",
     "iopub.status.busy": "2022-04-14T16:35:54.521328Z",
     "iopub.status.idle": "2022-04-14T16:35:57.387947Z",
     "shell.execute_reply": "2022-04-14T16:35:57.386938Z",
     "shell.execute_reply.started": "2022-04-14T16:35:54.522433Z"
    }
   },
   "outputs": [
    {
     "name": "stdout",
     "output_type": "stream",
     "text": [
      "[18:53:52] WARNING: ../src/learner.cc:576: \n",
      "Parameters: { \"silent\" } might not be used.\n",
      "\n",
      "  This could be a false alarm, with some parameters getting used by language bindings but\n",
      "  then being mistakenly passed down to XGBoost core, or some parameter actually being used\n",
      "  but getting flagged wrongly here. Please open an issue if you find any such cases.\n",
      "\n",
      "\n",
      "[0]\ttrain-auc:0.78329\tvalid-auc:0.77442\n",
      "[10]\ttrain-auc:0.81968\tvalid-auc:0.78086\n",
      "[20]\ttrain-auc:0.83985\tvalid-auc:0.77873\n",
      "[30]\ttrain-auc:0.85637\tvalid-auc:0.77552\n",
      "[40]\ttrain-auc:0.86838\tvalid-auc:0.77263\n",
      "[50]\ttrain-auc:0.88201\tvalid-auc:0.77089\n",
      "[60]\ttrain-auc:0.89216\tvalid-auc:0.76864\n",
      "[70]\ttrain-auc:0.90068\tvalid-auc:0.76666\n",
      "[80]\ttrain-auc:0.90862\tvalid-auc:0.76566\n",
      "[90]\ttrain-auc:0.91438\tvalid-auc:0.76371\n",
      "[99]\ttrain-auc:0.92052\tvalid-auc:0.76324\n"
     ]
    }
   ],
   "source": [
    "xgb_model = xgb.train(xgb_params, dtrain, num_boost_round=100, evals=watchlist, verbose_eval=10)"
   ]
  },
  {
   "cell_type": "markdown",
   "metadata": {},
   "source": [
    "##  Will tuning the hyperparameters improve the model performance?"
   ]
  },
  {
   "cell_type": "markdown",
   "metadata": {},
   "source": [
    "### Hyperparameter Tuning of XGBoosting Model"
   ]
  },
  {
   "cell_type": "code",
   "execution_count": 63,
   "metadata": {
    "execution": {
     "iopub.execute_input": "2022-04-14T16:35:57.389993Z",
     "iopub.status.busy": "2022-04-14T16:35:57.389486Z",
     "iopub.status.idle": "2022-04-14T16:35:57.397277Z",
     "shell.execute_reply": "2022-04-14T16:35:57.395507Z",
     "shell.execute_reply.started": "2022-04-14T16:35:57.389947Z"
    }
   },
   "outputs": [],
   "source": [
    "## lets create a list of parameters for training \n",
    "xgb_params = {\n",
    "    'eta': 0.1,\n",
    "    'max_depth': 6,\n",
    "    'min_child_weight': 1,\n",
    "    \n",
    "    'objective': 'binary:logistic',\n",
    "    'eval_metric': 'auc',\n",
    "    'nthread': 8,\n",
    "    'seed': 1,\n",
    "    'silent': 1\n",
    "}"
   ]
  },
  {
   "cell_type": "code",
   "execution_count": 64,
   "metadata": {
    "execution": {
     "iopub.execute_input": "2022-04-14T16:35:57.399875Z",
     "iopub.status.busy": "2022-04-14T16:35:57.399375Z",
     "iopub.status.idle": "2022-04-14T16:36:12.154159Z",
     "shell.execute_reply": "2022-04-14T16:36:12.153193Z",
     "shell.execute_reply.started": "2022-04-14T16:35:57.399827Z"
    }
   },
   "outputs": [
    {
     "name": "stdout",
     "output_type": "stream",
     "text": [
      "[18:53:56] WARNING: ../src/learner.cc:576: \n",
      "Parameters: { \"silent\" } might not be used.\n",
      "\n",
      "  This could be a false alarm, with some parameters getting used by language bindings but\n",
      "  then being mistakenly passed down to XGBoost core, or some parameter actually being used\n",
      "  but getting flagged wrongly here. Please open an issue if you find any such cases.\n",
      "\n",
      "\n",
      "[0]\ttrain-auc:0.78329\tvalid-auc:0.77442\n",
      "[10]\ttrain-auc:0.79757\tvalid-auc:0.77792\n",
      "[20]\ttrain-auc:0.80740\tvalid-auc:0.78088\n",
      "[30]\ttrain-auc:0.81712\tvalid-auc:0.78200\n",
      "[40]\ttrain-auc:0.82591\tvalid-auc:0.78195\n",
      "[50]\ttrain-auc:0.83209\tvalid-auc:0.78119\n",
      "[60]\ttrain-auc:0.83810\tvalid-auc:0.78057\n",
      "[70]\ttrain-auc:0.84471\tvalid-auc:0.77969\n",
      "[80]\ttrain-auc:0.84953\tvalid-auc:0.77862\n",
      "[90]\ttrain-auc:0.85396\tvalid-auc:0.77800\n",
      "[100]\ttrain-auc:0.85735\tvalid-auc:0.77696\n",
      "[110]\ttrain-auc:0.86213\tvalid-auc:0.77595\n",
      "[120]\ttrain-auc:0.86614\tvalid-auc:0.77602\n",
      "[130]\ttrain-auc:0.86985\tvalid-auc:0.77563\n",
      "[140]\ttrain-auc:0.87468\tvalid-auc:0.77495\n",
      "[150]\ttrain-auc:0.87958\tvalid-auc:0.77466\n",
      "[160]\ttrain-auc:0.88231\tvalid-auc:0.77385\n",
      "[170]\ttrain-auc:0.88593\tvalid-auc:0.77319\n",
      "[180]\ttrain-auc:0.88858\tvalid-auc:0.77294\n",
      "[190]\ttrain-auc:0.89162\tvalid-auc:0.77216\n",
      "[200]\ttrain-auc:0.89484\tvalid-auc:0.77207\n",
      "[210]\ttrain-auc:0.89694\tvalid-auc:0.77157\n",
      "[220]\ttrain-auc:0.90065\tvalid-auc:0.77095\n",
      "[230]\ttrain-auc:0.90324\tvalid-auc:0.77061\n",
      "[240]\ttrain-auc:0.90551\tvalid-auc:0.77001\n",
      "[250]\ttrain-auc:0.90814\tvalid-auc:0.76920\n",
      "[260]\ttrain-auc:0.91140\tvalid-auc:0.76856\n",
      "[270]\ttrain-auc:0.91350\tvalid-auc:0.76843\n",
      "[280]\ttrain-auc:0.91561\tvalid-auc:0.76854\n",
      "[290]\ttrain-auc:0.91768\tvalid-auc:0.76854\n",
      "[300]\ttrain-auc:0.92003\tvalid-auc:0.76790\n",
      "[310]\ttrain-auc:0.92163\tvalid-auc:0.76764\n",
      "[320]\ttrain-auc:0.92380\tvalid-auc:0.76718\n",
      "[330]\ttrain-auc:0.92557\tvalid-auc:0.76681\n",
      "[340]\ttrain-auc:0.92799\tvalid-auc:0.76692\n",
      "[350]\ttrain-auc:0.92961\tvalid-auc:0.76640\n",
      "[360]\ttrain-auc:0.93154\tvalid-auc:0.76579\n",
      "[370]\ttrain-auc:0.93327\tvalid-auc:0.76579\n",
      "[380]\ttrain-auc:0.93474\tvalid-auc:0.76523\n",
      "[390]\ttrain-auc:0.93680\tvalid-auc:0.76496\n",
      "[400]\ttrain-auc:0.93866\tvalid-auc:0.76451\n",
      "[410]\ttrain-auc:0.94017\tvalid-auc:0.76412\n",
      "[420]\ttrain-auc:0.94212\tvalid-auc:0.76381\n",
      "[430]\ttrain-auc:0.94344\tvalid-auc:0.76338\n",
      "[440]\ttrain-auc:0.94520\tvalid-auc:0.76311\n",
      "[450]\ttrain-auc:0.94682\tvalid-auc:0.76272\n",
      "[460]\ttrain-auc:0.94872\tvalid-auc:0.76240\n",
      "[470]\ttrain-auc:0.95015\tvalid-auc:0.76231\n",
      "[480]\ttrain-auc:0.95167\tvalid-auc:0.76182\n",
      "[490]\ttrain-auc:0.95309\tvalid-auc:0.76104\n",
      "[499]\ttrain-auc:0.95378\tvalid-auc:0.76074\n"
     ]
    }
   ],
   "source": [
    "xgb_model = xgb.train(xgb_params, dtrain, num_boost_round=500, evals=watchlist, verbose_eval=10)"
   ]
  },
  {
   "cell_type": "code",
   "execution_count": 65,
   "metadata": {
    "execution": {
     "iopub.execute_input": "2022-04-14T16:36:12.156567Z",
     "iopub.status.busy": "2022-04-14T16:36:12.155962Z",
     "iopub.status.idle": "2022-04-14T16:36:12.163461Z",
     "shell.execute_reply": "2022-04-14T16:36:12.162044Z",
     "shell.execute_reply.started": "2022-04-14T16:36:12.156517Z"
    }
   },
   "outputs": [],
   "source": [
    "## lets create a list of parameters for training \n",
    "## lets tune the max_depth parameter\n",
    "xgb_params = {\n",
    "    'eta': 0.1,\n",
    "    'max_depth': 3,\n",
    "    'min_child_weight': 1,\n",
    "    \n",
    "    'objective': 'binary:logistic',\n",
    "    'eval_metric': 'auc',\n",
    "    'nthread': 8,\n",
    "    'seed': 1,\n",
    "    'silent': 1\n",
    "}"
   ]
  },
  {
   "cell_type": "code",
   "execution_count": 66,
   "metadata": {
    "execution": {
     "iopub.execute_input": "2022-04-14T16:36:12.165661Z",
     "iopub.status.busy": "2022-04-14T16:36:12.165348Z",
     "iopub.status.idle": "2022-04-14T16:36:21.235486Z",
     "shell.execute_reply": "2022-04-14T16:36:21.234337Z",
     "shell.execute_reply.started": "2022-04-14T16:36:12.165618Z"
    }
   },
   "outputs": [
    {
     "name": "stdout",
     "output_type": "stream",
     "text": [
      "[18:54:18] WARNING: ../src/learner.cc:576: \n",
      "Parameters: { \"silent\" } might not be used.\n",
      "\n",
      "  This could be a false alarm, with some parameters getting used by language bindings but\n",
      "  then being mistakenly passed down to XGBoost core, or some parameter actually being used\n",
      "  but getting flagged wrongly here. Please open an issue if you find any such cases.\n",
      "\n",
      "\n",
      "[0]\ttrain-auc:0.71673\tvalid-auc:0.71065\n",
      "[10]\ttrain-auc:0.76363\tvalid-auc:0.75920\n",
      "[20]\ttrain-auc:0.77918\tvalid-auc:0.77353\n",
      "[30]\ttrain-auc:0.78467\tvalid-auc:0.77666\n",
      "[40]\ttrain-auc:0.78671\tvalid-auc:0.77746\n",
      "[50]\ttrain-auc:0.78905\tvalid-auc:0.77792\n",
      "[60]\ttrain-auc:0.79102\tvalid-auc:0.77890\n",
      "[70]\ttrain-auc:0.79261\tvalid-auc:0.77910\n",
      "[80]\ttrain-auc:0.79469\tvalid-auc:0.77916\n",
      "[90]\ttrain-auc:0.79605\tvalid-auc:0.77977\n",
      "[100]\ttrain-auc:0.79738\tvalid-auc:0.77977\n",
      "[110]\ttrain-auc:0.79861\tvalid-auc:0.77974\n",
      "[120]\ttrain-auc:0.80032\tvalid-auc:0.77964\n",
      "[130]\ttrain-auc:0.80128\tvalid-auc:0.77961\n",
      "[140]\ttrain-auc:0.80259\tvalid-auc:0.77937\n",
      "[150]\ttrain-auc:0.80392\tvalid-auc:0.77934\n",
      "[160]\ttrain-auc:0.80510\tvalid-auc:0.77892\n",
      "[170]\ttrain-auc:0.80627\tvalid-auc:0.77881\n",
      "[180]\ttrain-auc:0.80724\tvalid-auc:0.77920\n",
      "[190]\ttrain-auc:0.80859\tvalid-auc:0.77901\n",
      "[200]\ttrain-auc:0.80984\tvalid-auc:0.77914\n",
      "[210]\ttrain-auc:0.81066\tvalid-auc:0.77896\n",
      "[220]\ttrain-auc:0.81158\tvalid-auc:0.77912\n",
      "[230]\ttrain-auc:0.81263\tvalid-auc:0.77897\n",
      "[240]\ttrain-auc:0.81362\tvalid-auc:0.77864\n",
      "[250]\ttrain-auc:0.81464\tvalid-auc:0.77845\n",
      "[260]\ttrain-auc:0.81548\tvalid-auc:0.77828\n",
      "[270]\ttrain-auc:0.81668\tvalid-auc:0.77809\n",
      "[280]\ttrain-auc:0.81748\tvalid-auc:0.77792\n",
      "[290]\ttrain-auc:0.81845\tvalid-auc:0.77769\n",
      "[300]\ttrain-auc:0.81955\tvalid-auc:0.77787\n",
      "[310]\ttrain-auc:0.82040\tvalid-auc:0.77788\n",
      "[320]\ttrain-auc:0.82142\tvalid-auc:0.77719\n",
      "[330]\ttrain-auc:0.82216\tvalid-auc:0.77704\n",
      "[340]\ttrain-auc:0.82292\tvalid-auc:0.77681\n",
      "[350]\ttrain-auc:0.82378\tvalid-auc:0.77658\n",
      "[360]\ttrain-auc:0.82467\tvalid-auc:0.77633\n",
      "[370]\ttrain-auc:0.82574\tvalid-auc:0.77611\n",
      "[380]\ttrain-auc:0.82677\tvalid-auc:0.77583\n",
      "[390]\ttrain-auc:0.82752\tvalid-auc:0.77580\n",
      "[400]\ttrain-auc:0.82825\tvalid-auc:0.77563\n",
      "[410]\ttrain-auc:0.82893\tvalid-auc:0.77537\n",
      "[420]\ttrain-auc:0.82961\tvalid-auc:0.77486\n",
      "[430]\ttrain-auc:0.83043\tvalid-auc:0.77461\n",
      "[440]\ttrain-auc:0.83118\tvalid-auc:0.77434\n",
      "[450]\ttrain-auc:0.83176\tvalid-auc:0.77424\n",
      "[460]\ttrain-auc:0.83246\tvalid-auc:0.77417\n",
      "[470]\ttrain-auc:0.83325\tvalid-auc:0.77403\n",
      "[480]\ttrain-auc:0.83409\tvalid-auc:0.77402\n",
      "[490]\ttrain-auc:0.83489\tvalid-auc:0.77385\n",
      "[499]\ttrain-auc:0.83552\tvalid-auc:0.77378\n"
     ]
    }
   ],
   "source": [
    "## lets train our model \n",
    "xgb_model = xgb.train(xgb_params, dtrain, num_boost_round=500, evals=watchlist, verbose_eval=10)"
   ]
  },
  {
   "cell_type": "markdown",
   "metadata": {},
   "source": [
    "### Testing the final model \n",
    "We’re almost ready to use it for risk scoring. We still need to do two things before we can use it:\n",
    "- Retrain the final model on both train and validation datasets combined. We no longer need the validation dataset, so we can use more data for training, which will make the model slightly better.\n",
    "- Test the model on the test set. This is the part of data we kept aside from the beginning. Now we use it to make sure the model didn’t overfit and performs well on completely unseen data. <br>\n",
    "\n",
    "The next steps are:\n",
    "\n",
    "- Apply the same preprocessing to df_full_train and df_test as we did to df_train and df_val. As a result, we get the feature matrices X_train and X_test as well as our target variables y_train and y_test.\n",
    "- Train a model on the combined dataset with the parameters we selected previously.\n",
    "- Apply the model to the test data to get the test predictions.\n",
    "- Verify that the model performs well and doesn’t overfit."
   ]
  },
  {
   "cell_type": "code",
   "execution_count": 67,
   "metadata": {
    "execution": {
     "iopub.execute_input": "2022-04-14T16:36:21.242020Z",
     "iopub.status.busy": "2022-04-14T16:36:21.241146Z",
     "iopub.status.idle": "2022-04-14T16:36:21.253557Z",
     "shell.execute_reply": "2022-04-14T16:36:21.252259Z",
     "shell.execute_reply.started": "2022-04-14T16:36:21.241972Z"
    }
   },
   "outputs": [],
   "source": [
    "## lets create the target variable\n",
    "y_train = df_train_full.case_status.values\n",
    "y_test = df_test.case_status.values"
   ]
  },
  {
   "cell_type": "code",
   "execution_count": 68,
   "metadata": {
    "execution": {
     "iopub.execute_input": "2022-04-14T16:36:21.260101Z",
     "iopub.status.busy": "2022-04-14T16:36:21.259205Z",
     "iopub.status.idle": "2022-04-14T16:36:21.270493Z",
     "shell.execute_reply": "2022-04-14T16:36:21.269387Z",
     "shell.execute_reply.started": "2022-04-14T16:36:21.260056Z"
    }
   },
   "outputs": [],
   "source": [
    "## remove the target variable column from the dataframe\n",
    "del df_train_full['case_status']\n",
    "del df_test['case_status']"
   ]
  },
  {
   "cell_type": "code",
   "execution_count": 69,
   "metadata": {
    "execution": {
     "iopub.execute_input": "2022-04-14T16:36:21.277418Z",
     "iopub.status.busy": "2022-04-14T16:36:21.274547Z",
     "iopub.status.idle": "2022-04-14T16:36:21.699962Z",
     "shell.execute_reply": "2022-04-14T16:36:21.698997Z",
     "shell.execute_reply.started": "2022-04-14T16:36:21.277371Z"
    }
   },
   "outputs": [],
   "source": [
    "##convert the dataframe into a list of dictionaries\n",
    "## replace all missing values with zeros\n",
    "dict_train = df_train_full.to_dict(orient='records')\n",
    "dict_test = df_test.to_dict(orient='records')"
   ]
  },
  {
   "cell_type": "code",
   "execution_count": 70,
   "metadata": {
    "execution": {
     "iopub.execute_input": "2022-04-14T16:36:21.701998Z",
     "iopub.status.busy": "2022-04-14T16:36:21.701661Z",
     "iopub.status.idle": "2022-04-14T16:36:22.117507Z",
     "shell.execute_reply": "2022-04-14T16:36:22.116533Z",
     "shell.execute_reply.started": "2022-04-14T16:36:21.701955Z"
    }
   },
   "outputs": [],
   "source": [
    "## use one-hot encoding to get the feature matrices\n",
    "dict_vect = DictVectorizer(sparse=False)\n",
    "X_train_full = dict_vect.fit_transform(dict_train)\n",
    "X_test = dict_vect.transform(dict_test)"
   ]
  },
  {
   "cell_type": "code",
   "execution_count": 71,
   "metadata": {
    "execution": {
     "iopub.execute_input": "2022-04-14T16:36:22.119583Z",
     "iopub.status.busy": "2022-04-14T16:36:22.119221Z",
     "iopub.status.idle": "2022-04-14T16:36:22.140897Z",
     "shell.execute_reply": "2022-04-14T16:36:22.139625Z",
     "shell.execute_reply.started": "2022-04-14T16:36:22.119539Z"
    }
   },
   "outputs": [],
   "source": [
    "##lets train the XGBoost model using this data\n",
    "dtrain_full = xgb.DMatrix(X_train_full, label=y_train, feature_names=dict_vect.feature_names_)\n",
    "dtest = xgb.DMatrix(X_test, label=y_test, feature_names=dict_vect.feature_names_)\n"
   ]
  },
  {
   "cell_type": "markdown",
   "metadata": {
    "id": "obvious-maine"
   },
   "source": [
    "## Model Performance Comparison and Conclusions"
   ]
  },
  {
   "cell_type": "markdown",
   "metadata": {},
   "source": [
    "## Bagging "
   ]
  },
  {
   "cell_type": "code",
   "execution_count": 72,
   "metadata": {
    "execution": {
     "iopub.execute_input": "2022-04-14T16:36:22.144392Z",
     "iopub.status.busy": "2022-04-14T16:36:22.144031Z",
     "iopub.status.idle": "2022-04-14T16:36:22.151111Z",
     "shell.execute_reply": "2022-04-14T16:36:22.149809Z",
     "shell.execute_reply.started": "2022-04-14T16:36:22.144344Z"
    }
   },
   "outputs": [],
   "source": [
    "## lets train our final model\n",
    "tree = DecisionTreeClassifier(criterion='entropy', random_state=1, max_depth=6, min_samples_leaf=20)\n",
    "\n",
    "\n",
    "bag_model = BaggingClassifier(base_estimator=tree, \n",
    "                             n_estimators=500, \n",
    "                             max_samples=1.0,\n",
    "                             max_features=1.0,\n",
    "                             bootstrap=True,\n",
    "                             bootstrap_features=False,\n",
    "                             n_jobs=1,\n",
    "                             random_state=1)\n",
    "\n"
   ]
  },
  {
   "cell_type": "code",
   "execution_count": 73,
   "metadata": {
    "execution": {
     "iopub.execute_input": "2022-04-14T16:36:22.153577Z",
     "iopub.status.busy": "2022-04-14T16:36:22.153172Z",
     "iopub.status.idle": "2022-04-14T16:36:45.153236Z",
     "shell.execute_reply": "2022-04-14T16:36:45.152144Z",
     "shell.execute_reply.started": "2022-04-14T16:36:22.153522Z"
    }
   },
   "outputs": [
    {
     "data": {
      "text/plain": [
       "BaggingClassifier(base_estimator=DecisionTreeClassifier(criterion='entropy',\n",
       "                                                        max_depth=6,\n",
       "                                                        min_samples_leaf=20,\n",
       "                                                        random_state=1),\n",
       "                  n_estimators=500, n_jobs=1, random_state=1)"
      ]
     },
     "execution_count": 73,
     "metadata": {},
     "output_type": "execute_result"
    }
   ],
   "source": [
    "## lets train the final bagging model \n",
    "bag_model.fit(X_train_full,y_train)"
   ]
  },
  {
   "cell_type": "code",
   "execution_count": 74,
   "metadata": {
    "execution": {
     "iopub.execute_input": "2022-04-14T16:36:45.155328Z",
     "iopub.status.busy": "2022-04-14T16:36:45.154955Z",
     "iopub.status.idle": "2022-04-14T16:36:45.828994Z",
     "shell.execute_reply": "2022-04-14T16:36:45.826989Z",
     "shell.execute_reply.started": "2022-04-14T16:36:45.155251Z"
    }
   },
   "outputs": [
    {
     "name": "stdout",
     "output_type": "stream",
     "text": [
      "Test Accuracy For Bagging Model: 0.676\n"
     ]
    }
   ],
   "source": [
    "## lets evaluate the performance of the model\n",
    "y_pred_test = bag_model.predict(X_test)\n",
    "\n",
    "## lets compute our accuracy\n",
    "test_auc_score = roc_auc_score(y_test, y_pred_test)\n",
    "print(f\"Test Accuracy For Bagging Model: {round(test_auc_score, 3)}\")"
   ]
  },
  {
   "cell_type": "markdown",
   "metadata": {},
   "source": [
    "### XGBoosting "
   ]
  },
  {
   "cell_type": "code",
   "execution_count": 75,
   "metadata": {
    "execution": {
     "iopub.execute_input": "2022-04-14T16:36:45.831966Z",
     "iopub.status.busy": "2022-04-14T16:36:45.831586Z",
     "iopub.status.idle": "2022-04-14T16:36:45.839747Z",
     "shell.execute_reply": "2022-04-14T16:36:45.838356Z",
     "shell.execute_reply.started": "2022-04-14T16:36:45.831917Z"
    }
   },
   "outputs": [],
   "source": [
    "xgb_params = {\n",
    "    'eta': 0.1,\n",
    "    'max_depth':3,\n",
    "    'min_child_weigh':1,\n",
    "    \n",
    "    'objective': 'binary:logistic',\n",
    "    'eval_metric': 'auc',\n",
    "    'nthread': 8,\n",
    "    'seed': 1,\n",
    "    'silent': 1\n",
    "}\n",
    "\n",
    "num_trees = 60"
   ]
  },
  {
   "cell_type": "code",
   "execution_count": 76,
   "metadata": {
    "execution": {
     "iopub.execute_input": "2022-04-14T16:36:45.842068Z",
     "iopub.status.busy": "2022-04-14T16:36:45.841670Z",
     "iopub.status.idle": "2022-04-14T16:36:47.521733Z",
     "shell.execute_reply": "2022-04-14T16:36:47.520704Z",
     "shell.execute_reply.started": "2022-04-14T16:36:45.842021Z"
    }
   },
   "outputs": [
    {
     "name": "stdout",
     "output_type": "stream",
     "text": [
      "[18:55:19] WARNING: ../src/learner.cc:576: \n",
      "Parameters: { \"min_child_weigh\", \"silent\" } might not be used.\n",
      "\n",
      "  This could be a false alarm, with some parameters getting used by language bindings but\n",
      "  then being mistakenly passed down to XGBoost core, or some parameter actually being used\n",
      "  but getting flagged wrongly here. Please open an issue if you find any such cases.\n",
      "\n",
      "\n"
     ]
    }
   ],
   "source": [
    "xgb_model = xgb.train(xgb_params, dtrain_full, num_boost_round=num_trees)"
   ]
  },
  {
   "cell_type": "code",
   "execution_count": 77,
   "metadata": {
    "execution": {
     "iopub.execute_input": "2022-04-14T16:36:47.534043Z",
     "iopub.status.busy": "2022-04-14T16:36:47.531601Z",
     "iopub.status.idle": "2022-04-14T16:36:47.557133Z",
     "shell.execute_reply": "2022-04-14T16:36:47.556320Z",
     "shell.execute_reply.started": "2022-04-14T16:36:47.533998Z"
    }
   },
   "outputs": [
    {
     "name": "stdout",
     "output_type": "stream",
     "text": [
      "Test Accuracy For Boosting Model: 0.771\n"
     ]
    }
   ],
   "source": [
    "## lets evaluate the performance of the model\n",
    "y_pred_test = xgb_model.predict(dtest)\n",
    "\n",
    "## lets compute our accuracy\n",
    "valid_auc_score = roc_auc_score(y_test, y_pred_test)\n",
    "print(f\"Test Accuracy For Boosting Model: {round(valid_auc_score, 3)}\")"
   ]
  },
  {
   "cell_type": "markdown",
   "metadata": {
    "id": "banned-difficulty"
   },
   "source": [
    "- From the above results, There was a slight improvement in test accuracy results of boosting model after tuning it hyperparameters. \n",
    "- But there was a rather slight decrease in the test accuracy of the bagging model after turning its hhperparameters. "
   ]
  },
  {
   "cell_type": "markdown",
   "metadata": {
    "id": "nasty-retailer"
   },
   "source": [
    "## Actionable Insights and Recommendations"
   ]
  },
  {
   "cell_type": "markdown",
   "metadata": {
    "execution": {
     "iopub.execute_input": "2022-04-14T10:49:57.040188Z",
     "iopub.status.busy": "2022-04-14T10:49:57.039927Z",
     "iopub.status.idle": "2022-04-14T10:49:57.045888Z",
     "shell.execute_reply": "2022-04-14T10:49:57.044741Z",
     "shell.execute_reply.started": "2022-04-14T10:49:57.040160Z"
    },
    "id": "amino-prediction"
   },
   "source": [
    "- The analysis also showed that applicants with a higher educational degree such as degree, masters, and doctorate were more likely to have their visas approved and hence priority could be given to applicant with higher educational degree. \n",
    "- Also the analysis also showed that applicants with job exprience had a higher chance of their visa being approved than applicants without any job experience. Also priority could be given to applicants with job exprience. \n",
    "- Applicants with yearly contract as well had a higher chance of their visa being approved than those without. Hence priority must be given to such applicant to further reduce the workload. \n",
    "- Interms of applicant from different continents, there wasn't any significant difference in chances of getting a visa approved or denied. \n",
    "- From the target variable analysis, it was identified that the number of visa approved far exceeded the number of non canceled bookings, hence this would make the model skewed towards approved visas. There should be balanced presentation from both classes. \n",
    "\n"
   ]
  },
  {
   "cell_type": "code",
   "execution_count": null,
   "metadata": {},
   "outputs": [],
   "source": []
  }
 ],
 "metadata": {
  "kernelspec": {
   "display_name": "Python 3 (ipykernel)",
   "language": "python",
   "name": "python3"
  },
  "language_info": {
   "codemirror_mode": {
    "name": "ipython",
    "version": 3
   },
   "file_extension": ".py",
   "mimetype": "text/x-python",
   "name": "python",
   "nbconvert_exporter": "python",
   "pygments_lexer": "ipython3",
   "version": "3.9.13"
  }
 },
 "nbformat": 4,
 "nbformat_minor": 4
}
